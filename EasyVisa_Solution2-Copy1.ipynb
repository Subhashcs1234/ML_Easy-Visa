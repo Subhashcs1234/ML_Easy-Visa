{
 "cells": [
  {
   "cell_type": "markdown",
   "id": "2d933c42-2126-46d8-95b2-840677697250",
   "metadata": {},
   "source": [
    "## Data Dictionary\n",
    "\n",
    "\n",
    "    case_id: ID of each visa application\n",
    "    continent: Information of continent the employee\n",
    "    education_of_employee: Information of education of the employee\n",
    "    has_job_experience: Does the employee has any job experience? Y= Yes; N = No\n",
    "    requires_job_training: Does the employee require any job training? Y = Yes; N = No\n",
    "    no_of_employees: Number of employees in the employer's company\n",
    "    yr_of_estab: Year in which the employer's company was established\n",
    "    region_of_employment: Information of foreign worker's intended region of employment in the US.\n",
    "    prevailing_wage: Average wage paid to similarly employed workers in a specific occupation in the area of intended employment. The purpose of the prevailing wage is to ensure that the foreign worker is not underpaid compared to other workers offering the same or similar service in the same area of employment.\n",
    "    unit_of_wage: Unit of prevailing wage. Values include Hourly, Weekly, Monthly, and Yearly.\n",
    "    full_time_position: Is the position of work full-time? Y = Full-Time Position; N = Part-Time Position\n",
    "    case_status: Flag indicating if the Visa was certified or denied\n",
    "\n"
   ]
  },
  {
   "cell_type": "code",
   "execution_count": 1,
   "id": "d5cd36b1-4674-4eaf-9f05-a3c10f6013a7",
   "metadata": {
    "id": "d5cd36b1-4674-4eaf-9f05-a3c10f6013a7"
   },
   "outputs": [],
   "source": [
    "# Libraries to help with reading and manipulating data\n",
    "import pandas as pd\n",
    "import numpy as np\n",
    "\n",
    "# libaries to help with data visualization\n",
    "import matplotlib.pyplot as plt\n",
    "import seaborn as sns\n",
    "\n",
    "# Library to split data\n",
    "from sklearn.model_selection import train_test_split\n",
    "\n",
    "# To build model for prediction\n",
    "from sklearn.tree import DecisionTreeClassifier\n",
    "from sklearn.ensemble import RandomForestClassifier, BaggingClassifier, GradientBoostingClassifier, AdaBoostClassifier\n",
    "\n",
    "# For Oversampling and Undersampling\n",
    "from imblearn.over_sampling import SMOTE\n",
    "from imblearn.under_sampling import RandomUnderSampler\n",
    "\n",
    "# To get diferent metric scores\n",
    "from sklearn.metrics import (\n",
    "    f1_score,\n",
    "    accuracy_score,\n",
    "    recall_score,\n",
    "    precision_score,\n",
    "    confusion_matrix,\n",
    ")\n",
    "\n",
    "# For HyperParameter Tuning\n",
    "from sklearn.model_selection import GridSearchCV\n",
    "from sklearn.model_selection import RandomizedSearchCV\n",
    "from scipy.stats import randint\n",
    "\n",
    "# to suppress unnecessary warnings\n",
    "import warnings\n",
    "warnings.filterwarnings(\"ignore\")"
   ]
  },
  {
   "cell_type": "code",
   "execution_count": 2,
   "id": "a675cdd6-cc9e-451b-8661-4ea753e16714",
   "metadata": {
    "id": "a675cdd6-cc9e-451b-8661-4ea753e16714"
   },
   "outputs": [],
   "source": [
    "# read the csv file\n",
    "df = pd.read_csv(\"EasyVisa.csv\")  # Adjust the path\n",
    "\n",
    "# copy the data to another variable to avoid changes in the original data\n",
    "data = df.copy()"
   ]
  },
  {
   "cell_type": "markdown",
   "id": "e875af07-644d-4e0d-a85f-c82837df193f",
   "metadata": {
    "id": "e875af07-644d-4e0d-a85f-c82837df193f"
   },
   "source": [
    "# Exploratory Data Analysis"
   ]
  },
  {
   "cell_type": "code",
   "execution_count": 3,
   "id": "b6ddefaa-c2a8-40b5-9c85-a1f9d3dd6a9a",
   "metadata": {
    "colab": {
     "base_uri": "https://localhost:8080/",
     "height": 226
    },
    "id": "b6ddefaa-c2a8-40b5-9c85-a1f9d3dd6a9a",
    "outputId": "bcc283b4-d210-417b-d9d8-99cedb1e130a"
   },
   "outputs": [
    {
     "data": {
      "text/html": [
       "<div>\n",
       "<style scoped>\n",
       "    .dataframe tbody tr th:only-of-type {\n",
       "        vertical-align: middle;\n",
       "    }\n",
       "\n",
       "    .dataframe tbody tr th {\n",
       "        vertical-align: top;\n",
       "    }\n",
       "\n",
       "    .dataframe thead th {\n",
       "        text-align: right;\n",
       "    }\n",
       "</style>\n",
       "<table border=\"1\" class=\"dataframe\">\n",
       "  <thead>\n",
       "    <tr style=\"text-align: right;\">\n",
       "      <th></th>\n",
       "      <th>case_id</th>\n",
       "      <th>continent</th>\n",
       "      <th>education_of_employee</th>\n",
       "      <th>has_job_experience</th>\n",
       "      <th>requires_job_training</th>\n",
       "      <th>no_of_employees</th>\n",
       "      <th>yr_of_estab</th>\n",
       "      <th>region_of_employment</th>\n",
       "      <th>prevailing_wage</th>\n",
       "      <th>unit_of_wage</th>\n",
       "      <th>full_time_position</th>\n",
       "      <th>case_status</th>\n",
       "    </tr>\n",
       "  </thead>\n",
       "  <tbody>\n",
       "    <tr>\n",
       "      <th>0</th>\n",
       "      <td>EZYV01</td>\n",
       "      <td>Asia</td>\n",
       "      <td>High School</td>\n",
       "      <td>N</td>\n",
       "      <td>N</td>\n",
       "      <td>14513</td>\n",
       "      <td>2007</td>\n",
       "      <td>West</td>\n",
       "      <td>592.2029</td>\n",
       "      <td>Hour</td>\n",
       "      <td>Y</td>\n",
       "      <td>Denied</td>\n",
       "    </tr>\n",
       "    <tr>\n",
       "      <th>1</th>\n",
       "      <td>EZYV02</td>\n",
       "      <td>Asia</td>\n",
       "      <td>Master's</td>\n",
       "      <td>Y</td>\n",
       "      <td>N</td>\n",
       "      <td>2412</td>\n",
       "      <td>2002</td>\n",
       "      <td>Northeast</td>\n",
       "      <td>83425.6500</td>\n",
       "      <td>Year</td>\n",
       "      <td>Y</td>\n",
       "      <td>Certified</td>\n",
       "    </tr>\n",
       "    <tr>\n",
       "      <th>2</th>\n",
       "      <td>EZYV03</td>\n",
       "      <td>Asia</td>\n",
       "      <td>Bachelor's</td>\n",
       "      <td>N</td>\n",
       "      <td>Y</td>\n",
       "      <td>44444</td>\n",
       "      <td>2008</td>\n",
       "      <td>West</td>\n",
       "      <td>122996.8600</td>\n",
       "      <td>Year</td>\n",
       "      <td>Y</td>\n",
       "      <td>Denied</td>\n",
       "    </tr>\n",
       "    <tr>\n",
       "      <th>3</th>\n",
       "      <td>EZYV04</td>\n",
       "      <td>Asia</td>\n",
       "      <td>Bachelor's</td>\n",
       "      <td>N</td>\n",
       "      <td>N</td>\n",
       "      <td>98</td>\n",
       "      <td>1897</td>\n",
       "      <td>West</td>\n",
       "      <td>83434.0300</td>\n",
       "      <td>Year</td>\n",
       "      <td>Y</td>\n",
       "      <td>Denied</td>\n",
       "    </tr>\n",
       "    <tr>\n",
       "      <th>4</th>\n",
       "      <td>EZYV05</td>\n",
       "      <td>Africa</td>\n",
       "      <td>Master's</td>\n",
       "      <td>Y</td>\n",
       "      <td>N</td>\n",
       "      <td>1082</td>\n",
       "      <td>2005</td>\n",
       "      <td>South</td>\n",
       "      <td>149907.3900</td>\n",
       "      <td>Year</td>\n",
       "      <td>Y</td>\n",
       "      <td>Certified</td>\n",
       "    </tr>\n",
       "  </tbody>\n",
       "</table>\n",
       "</div>"
      ],
      "text/plain": [
       "  case_id continent education_of_employee has_job_experience  \\\n",
       "0  EZYV01      Asia           High School                  N   \n",
       "1  EZYV02      Asia              Master's                  Y   \n",
       "2  EZYV03      Asia            Bachelor's                  N   \n",
       "3  EZYV04      Asia            Bachelor's                  N   \n",
       "4  EZYV05    Africa              Master's                  Y   \n",
       "\n",
       "  requires_job_training  no_of_employees  yr_of_estab region_of_employment  \\\n",
       "0                     N            14513         2007                 West   \n",
       "1                     N             2412         2002            Northeast   \n",
       "2                     Y            44444         2008                 West   \n",
       "3                     N               98         1897                 West   \n",
       "4                     N             1082         2005                South   \n",
       "\n",
       "   prevailing_wage unit_of_wage full_time_position case_status  \n",
       "0         592.2029         Hour                  Y      Denied  \n",
       "1       83425.6500         Year                  Y   Certified  \n",
       "2      122996.8600         Year                  Y      Denied  \n",
       "3       83434.0300         Year                  Y      Denied  \n",
       "4      149907.3900         Year                  Y   Certified  "
      ]
     },
     "execution_count": 3,
     "metadata": {},
     "output_type": "execute_result"
    }
   ],
   "source": [
    "# View the first 5 rows of the dataset\n",
    "data.head()"
   ]
  },
  {
   "cell_type": "code",
   "execution_count": 4,
   "id": "144c759d-24d0-432c-a569-18a971cd3422",
   "metadata": {
    "colab": {
     "base_uri": "https://localhost:8080/"
    },
    "id": "144c759d-24d0-432c-a569-18a971cd3422",
    "outputId": "e6696b65-444e-4a80-a368-ce1c681054d0"
   },
   "outputs": [
    {
     "data": {
      "text/plain": [
       "(25480, 12)"
      ]
     },
     "execution_count": 4,
     "metadata": {},
     "output_type": "execute_result"
    }
   ],
   "source": [
    "#Understand the shape of the dataset\n",
    "data.shape"
   ]
  },
  {
   "cell_type": "markdown",
   "id": "aa09c469-b972-497e-81ec-fcdd5bb65a75",
   "metadata": {
    "id": "aa09c469-b972-497e-81ec-fcdd5bb65a75"
   },
   "source": [
    "- The dataset has 25480 rows and 12 columns"
   ]
  },
  {
   "cell_type": "code",
   "execution_count": 5,
   "id": "bc47825c-1b7a-443b-bb4a-70873bde780a",
   "metadata": {
    "colab": {
     "base_uri": "https://localhost:8080/"
    },
    "id": "bc47825c-1b7a-443b-bb4a-70873bde780a",
    "outputId": "6cfc4ee3-6683-4af7-bc4d-d12419ccb158"
   },
   "outputs": [
    {
     "name": "stdout",
     "output_type": "stream",
     "text": [
      "<class 'pandas.core.frame.DataFrame'>\n",
      "RangeIndex: 25480 entries, 0 to 25479\n",
      "Data columns (total 12 columns):\n",
      " #   Column                 Non-Null Count  Dtype  \n",
      "---  ------                 --------------  -----  \n",
      " 0   case_id                25480 non-null  object \n",
      " 1   continent              25480 non-null  object \n",
      " 2   education_of_employee  25480 non-null  object \n",
      " 3   has_job_experience     25480 non-null  object \n",
      " 4   requires_job_training  25480 non-null  object \n",
      " 5   no_of_employees        25480 non-null  int64  \n",
      " 6   yr_of_estab            25480 non-null  int64  \n",
      " 7   region_of_employment   25480 non-null  object \n",
      " 8   prevailing_wage        25480 non-null  float64\n",
      " 9   unit_of_wage           25480 non-null  object \n",
      " 10  full_time_position     25480 non-null  object \n",
      " 11  case_status            25480 non-null  object \n",
      "dtypes: float64(1), int64(2), object(9)\n",
      "memory usage: 2.3+ MB\n"
     ]
    }
   ],
   "source": [
    "# Check the data types of the columns for the dataset\n",
    "data.info()"
   ]
  },
  {
   "cell_type": "markdown",
   "id": "4f23537c-7b72-4a60-9d36-35f717c368ed",
   "metadata": {
    "id": "4f23537c-7b72-4a60-9d36-35f717c368ed"
   },
   "source": [
    "* There are no null values in the data\n",
    "* 3 attributes are of numerical data type and 9 attributes are of object data type"
   ]
  },
  {
   "cell_type": "code",
   "execution_count": 6,
   "id": "2fa658c8-f3cb-43d1-9c17-ba973a38ca37",
   "metadata": {
    "colab": {
     "base_uri": "https://localhost:8080/",
     "height": 300
    },
    "id": "2fa658c8-f3cb-43d1-9c17-ba973a38ca37",
    "outputId": "e693e261-8a2a-4cea-8c4c-f304fb378d50"
   },
   "outputs": [
    {
     "data": {
      "text/html": [
       "<div>\n",
       "<style scoped>\n",
       "    .dataframe tbody tr th:only-of-type {\n",
       "        vertical-align: middle;\n",
       "    }\n",
       "\n",
       "    .dataframe tbody tr th {\n",
       "        vertical-align: top;\n",
       "    }\n",
       "\n",
       "    .dataframe thead th {\n",
       "        text-align: right;\n",
       "    }\n",
       "</style>\n",
       "<table border=\"1\" class=\"dataframe\">\n",
       "  <thead>\n",
       "    <tr style=\"text-align: right;\">\n",
       "      <th></th>\n",
       "      <th>no_of_employees</th>\n",
       "      <th>yr_of_estab</th>\n",
       "      <th>prevailing_wage</th>\n",
       "    </tr>\n",
       "  </thead>\n",
       "  <tbody>\n",
       "    <tr>\n",
       "      <th>count</th>\n",
       "      <td>25480.000000</td>\n",
       "      <td>25480.000000</td>\n",
       "      <td>25480.000000</td>\n",
       "    </tr>\n",
       "    <tr>\n",
       "      <th>mean</th>\n",
       "      <td>5667.043210</td>\n",
       "      <td>1979.409929</td>\n",
       "      <td>74455.814592</td>\n",
       "    </tr>\n",
       "    <tr>\n",
       "      <th>std</th>\n",
       "      <td>22877.928848</td>\n",
       "      <td>42.366929</td>\n",
       "      <td>52815.942327</td>\n",
       "    </tr>\n",
       "    <tr>\n",
       "      <th>min</th>\n",
       "      <td>-26.000000</td>\n",
       "      <td>1800.000000</td>\n",
       "      <td>2.136700</td>\n",
       "    </tr>\n",
       "    <tr>\n",
       "      <th>25%</th>\n",
       "      <td>1022.000000</td>\n",
       "      <td>1976.000000</td>\n",
       "      <td>34015.480000</td>\n",
       "    </tr>\n",
       "    <tr>\n",
       "      <th>50%</th>\n",
       "      <td>2109.000000</td>\n",
       "      <td>1997.000000</td>\n",
       "      <td>70308.210000</td>\n",
       "    </tr>\n",
       "    <tr>\n",
       "      <th>75%</th>\n",
       "      <td>3504.000000</td>\n",
       "      <td>2005.000000</td>\n",
       "      <td>107735.512500</td>\n",
       "    </tr>\n",
       "    <tr>\n",
       "      <th>max</th>\n",
       "      <td>602069.000000</td>\n",
       "      <td>2016.000000</td>\n",
       "      <td>319210.270000</td>\n",
       "    </tr>\n",
       "  </tbody>\n",
       "</table>\n",
       "</div>"
      ],
      "text/plain": [
       "       no_of_employees   yr_of_estab  prevailing_wage\n",
       "count     25480.000000  25480.000000     25480.000000\n",
       "mean       5667.043210   1979.409929     74455.814592\n",
       "std       22877.928848     42.366929     52815.942327\n",
       "min         -26.000000   1800.000000         2.136700\n",
       "25%        1022.000000   1976.000000     34015.480000\n",
       "50%        2109.000000   1997.000000     70308.210000\n",
       "75%        3504.000000   2005.000000    107735.512500\n",
       "max      602069.000000   2016.000000    319210.270000"
      ]
     },
     "execution_count": 6,
     "metadata": {},
     "output_type": "execute_result"
    }
   ],
   "source": [
    "# Checking the Statistical Summary\n",
    "data.describe()"
   ]
  },
  {
   "cell_type": "markdown",
   "id": "febf893a-b944-4776-9c19-b139db29cd62",
   "metadata": {
    "id": "febf893a-b944-4776-9c19-b139db29cd62"
   },
   "source": [
    "- The distribution of no_of_employees is right skewed showing that some companies have a very large number of employees. It has negative values which need to be handled.\n",
    "- yr_of_estab ranges from 1800 to 2016. The distribution for this is left skewed.\n",
    "- As the values of prevailing_wage have different unit_of_wage, it is not sensible to draw conclusions regarding this attribute. We will make changes to this column for futher analysis."
   ]
  },
  {
   "cell_type": "markdown",
   "id": "dcaf8bf4-d31b-4010-b6e5-57e47b5ae7be",
   "metadata": {
    "id": "dcaf8bf4-d31b-4010-b6e5-57e47b5ae7be"
   },
   "source": []
  },
  {
   "cell_type": "code",
   "execution_count": 7,
   "id": "fd373aff-4ca7-47b7-b77e-673db723f065",
   "metadata": {
    "colab": {
     "base_uri": "https://localhost:8080/"
    },
    "id": "fd373aff-4ca7-47b7-b77e-673db723f065",
    "outputId": "836d587d-660d-41b8-f67c-64c9819f37cf"
   },
   "outputs": [
    {
     "data": {
      "text/plain": [
       "np.int64(0)"
      ]
     },
     "execution_count": 7,
     "metadata": {},
     "output_type": "execute_result"
    }
   ],
   "source": [
    "data.duplicated().sum()"
   ]
  },
  {
   "cell_type": "markdown",
   "id": "qPryI9BI90-l",
   "metadata": {
    "id": "qPryI9BI90-l"
   },
   "source": [
    "* There are no duplicated rows in the dataset."
   ]
  },
  {
   "cell_type": "markdown",
   "id": "7afbc2dc-1a57-454c-842d-bc0c870c3caf",
   "metadata": {
    "id": "7afbc2dc-1a57-454c-842d-bc0c870c3caf"
   },
   "source": [
    "- Let's drop the case_id column before we proceed forward as it is a unique identifier for the rows and will not add value to the analysis."
   ]
  },
  {
   "cell_type": "code",
   "execution_count": 8,
   "id": "0f11afd7-ad44-496f-9764-921889d3b822",
   "metadata": {
    "id": "0f11afd7-ad44-496f-9764-921889d3b822"
   },
   "outputs": [],
   "source": [
    "data = data.drop([\"case_id\"], axis=1)"
   ]
  },
  {
   "cell_type": "markdown",
   "id": "j4YSu17c-E02",
   "metadata": {
    "id": "j4YSu17c-E02"
   },
   "source": [
    "* We saw that no_of_employees column had negative values. We will make necessary changes to this column."
   ]
  },
  {
   "cell_type": "code",
   "execution_count": 9,
   "id": "7a23766c-cc62-4d33-8c35-93572abbfd88",
   "metadata": {
    "colab": {
     "base_uri": "https://localhost:8080/"
    },
    "id": "7a23766c-cc62-4d33-8c35-93572abbfd88",
    "outputId": "e1192c26-02fd-4970-e5b9-e1355836e48c"
   },
   "outputs": [
    {
     "data": {
      "text/plain": [
       "array([-25, -11, -17, -26, -14])"
      ]
     },
     "execution_count": 9,
     "metadata": {},
     "output_type": "execute_result"
    }
   ],
   "source": [
    "# Checking for no_of_employees less than or equal to 0\n",
    "\n",
    "data[data['no_of_employees'] <= 0]['no_of_employees'].unique()"
   ]
  },
  {
   "cell_type": "markdown",
   "id": "0820492f-39b1-41bd-b3e9-e4a428763afa",
   "metadata": {
    "id": "0820492f-39b1-41bd-b3e9-e4a428763afa"
   },
   "source": [
    "* We will assume that these negative signs here are data input errors, so we will replace them with positive sign."
   ]
  },
  {
   "cell_type": "code",
   "execution_count": 10,
   "id": "9817bf69-05d0-4868-8d78-52992c6767f8",
   "metadata": {
    "id": "9817bf69-05d0-4868-8d78-52992c6767f8"
   },
   "outputs": [],
   "source": [
    "data['no_of_employees'] = data['no_of_employees'].abs()"
   ]
  },
  {
   "cell_type": "code",
   "execution_count": 11,
   "id": "f01aac49-6dca-454a-855a-947825c9dca1",
   "metadata": {
    "colab": {
     "base_uri": "https://localhost:8080/"
    },
    "id": "f01aac49-6dca-454a-855a-947825c9dca1",
    "outputId": "0b6ea832-183c-4723-effb-586ad50dbbfb"
   },
   "outputs": [
    {
     "data": {
      "text/plain": [
       "array([], dtype=int64)"
      ]
     },
     "execution_count": 11,
     "metadata": {},
     "output_type": "execute_result"
    }
   ],
   "source": [
    "# checking for negative values in no_of_employees column\n",
    "data[data['no_of_employees'] <= 0]['no_of_employees'].unique()"
   ]
  },
  {
   "cell_type": "code",
   "execution_count": null,
   "id": "3dcb0903-8bb8-4d17-bb82-147b9269be25",
   "metadata": {
    "id": "3dcb0903-8bb8-4d17-bb82-147b9269be25"
   },
   "outputs": [],
   "source": []
  },
  {
   "cell_type": "markdown",
   "id": "WVrGIqsVmKHS",
   "metadata": {
    "id": "WVrGIqsVmKHS"
   },
   "source": [
    "## Feature Engineering"
   ]
  },
  {
   "cell_type": "markdown",
   "id": "pwQ7GEhH-7YS",
   "metadata": {
    "id": "pwQ7GEhH-7YS"
   },
   "source": [
    "* We will standardize the prevailing_wage column by multiplying the values with different numbers based on the unit_of_wage."
   ]
  },
  {
   "cell_type": "code",
   "execution_count": 12,
   "id": "d3334083-5bd7-46e7-a69e-36bdbd74b115",
   "metadata": {
    "id": "d3334083-5bd7-46e7-a69e-36bdbd74b115"
   },
   "outputs": [],
   "source": [
    "# Function to standardize the prevailing_wage\n",
    "def standardize_wage(row):\n",
    "    wage = row['prevailing_wage']\n",
    "    unit = row['unit_of_wage']\n",
    "\n",
    "    if unit == 'Hour':\n",
    "        return wage * 8 * 260  # Assuming 8 hours/day, 260 workdays/year\n",
    "    elif unit == 'Week':\n",
    "        return wage * 52       # ~52 Weeks in a year\n",
    "    elif unit == 'Month':\n",
    "        return wage * 12       # 12 Months in a year\n",
    "    elif unit == 'Year':\n",
    "        return wage\n",
    "    else:\n",
    "        return None  # Handle cases with missing or invalid units\n",
    "\n",
    "# Apply the above function to create a new column: 'annual_wage'\n",
    "data['annual_wage'] = data.apply(standardize_wage, axis=1)"
   ]
  },
  {
   "cell_type": "code",
   "execution_count": 13,
   "id": "b7534f1d-5215-4110-9e61-f1e26019a5a5",
   "metadata": {
    "colab": {
     "base_uri": "https://localhost:8080/",
     "height": 226
    },
    "id": "b7534f1d-5215-4110-9e61-f1e26019a5a5",
    "outputId": "a72b7b67-4409-4682-b01b-be73f04b25b2"
   },
   "outputs": [
    {
     "data": {
      "text/html": [
       "<div>\n",
       "<style scoped>\n",
       "    .dataframe tbody tr th:only-of-type {\n",
       "        vertical-align: middle;\n",
       "    }\n",
       "\n",
       "    .dataframe tbody tr th {\n",
       "        vertical-align: top;\n",
       "    }\n",
       "\n",
       "    .dataframe thead th {\n",
       "        text-align: right;\n",
       "    }\n",
       "</style>\n",
       "<table border=\"1\" class=\"dataframe\">\n",
       "  <thead>\n",
       "    <tr style=\"text-align: right;\">\n",
       "      <th></th>\n",
       "      <th>continent</th>\n",
       "      <th>education_of_employee</th>\n",
       "      <th>has_job_experience</th>\n",
       "      <th>requires_job_training</th>\n",
       "      <th>no_of_employees</th>\n",
       "      <th>yr_of_estab</th>\n",
       "      <th>region_of_employment</th>\n",
       "      <th>prevailing_wage</th>\n",
       "      <th>unit_of_wage</th>\n",
       "      <th>full_time_position</th>\n",
       "      <th>case_status</th>\n",
       "      <th>annual_wage</th>\n",
       "    </tr>\n",
       "  </thead>\n",
       "  <tbody>\n",
       "    <tr>\n",
       "      <th>0</th>\n",
       "      <td>Asia</td>\n",
       "      <td>High School</td>\n",
       "      <td>N</td>\n",
       "      <td>N</td>\n",
       "      <td>14513</td>\n",
       "      <td>2007</td>\n",
       "      <td>West</td>\n",
       "      <td>592.2029</td>\n",
       "      <td>Hour</td>\n",
       "      <td>Y</td>\n",
       "      <td>Denied</td>\n",
       "      <td>1231782.032</td>\n",
       "    </tr>\n",
       "    <tr>\n",
       "      <th>1</th>\n",
       "      <td>Asia</td>\n",
       "      <td>Master's</td>\n",
       "      <td>Y</td>\n",
       "      <td>N</td>\n",
       "      <td>2412</td>\n",
       "      <td>2002</td>\n",
       "      <td>Northeast</td>\n",
       "      <td>83425.6500</td>\n",
       "      <td>Year</td>\n",
       "      <td>Y</td>\n",
       "      <td>Certified</td>\n",
       "      <td>83425.650</td>\n",
       "    </tr>\n",
       "    <tr>\n",
       "      <th>2</th>\n",
       "      <td>Asia</td>\n",
       "      <td>Bachelor's</td>\n",
       "      <td>N</td>\n",
       "      <td>Y</td>\n",
       "      <td>44444</td>\n",
       "      <td>2008</td>\n",
       "      <td>West</td>\n",
       "      <td>122996.8600</td>\n",
       "      <td>Year</td>\n",
       "      <td>Y</td>\n",
       "      <td>Denied</td>\n",
       "      <td>122996.860</td>\n",
       "    </tr>\n",
       "    <tr>\n",
       "      <th>3</th>\n",
       "      <td>Asia</td>\n",
       "      <td>Bachelor's</td>\n",
       "      <td>N</td>\n",
       "      <td>N</td>\n",
       "      <td>98</td>\n",
       "      <td>1897</td>\n",
       "      <td>West</td>\n",
       "      <td>83434.0300</td>\n",
       "      <td>Year</td>\n",
       "      <td>Y</td>\n",
       "      <td>Denied</td>\n",
       "      <td>83434.030</td>\n",
       "    </tr>\n",
       "    <tr>\n",
       "      <th>4</th>\n",
       "      <td>Africa</td>\n",
       "      <td>Master's</td>\n",
       "      <td>Y</td>\n",
       "      <td>N</td>\n",
       "      <td>1082</td>\n",
       "      <td>2005</td>\n",
       "      <td>South</td>\n",
       "      <td>149907.3900</td>\n",
       "      <td>Year</td>\n",
       "      <td>Y</td>\n",
       "      <td>Certified</td>\n",
       "      <td>149907.390</td>\n",
       "    </tr>\n",
       "  </tbody>\n",
       "</table>\n",
       "</div>"
      ],
      "text/plain": [
       "  continent education_of_employee has_job_experience requires_job_training  \\\n",
       "0      Asia           High School                  N                     N   \n",
       "1      Asia              Master's                  Y                     N   \n",
       "2      Asia            Bachelor's                  N                     Y   \n",
       "3      Asia            Bachelor's                  N                     N   \n",
       "4    Africa              Master's                  Y                     N   \n",
       "\n",
       "   no_of_employees  yr_of_estab region_of_employment  prevailing_wage  \\\n",
       "0            14513         2007                 West         592.2029   \n",
       "1             2412         2002            Northeast       83425.6500   \n",
       "2            44444         2008                 West      122996.8600   \n",
       "3               98         1897                 West       83434.0300   \n",
       "4             1082         2005                South      149907.3900   \n",
       "\n",
       "  unit_of_wage full_time_position case_status  annual_wage  \n",
       "0         Hour                  Y      Denied  1231782.032  \n",
       "1         Year                  Y   Certified    83425.650  \n",
       "2         Year                  Y      Denied   122996.860  \n",
       "3         Year                  Y      Denied    83434.030  \n",
       "4         Year                  Y   Certified   149907.390  "
      ]
     },
     "execution_count": 13,
     "metadata": {},
     "output_type": "execute_result"
    }
   ],
   "source": [
    "# View first 5 rows of the data after adding the new column\n",
    "data.head()"
   ]
  },
  {
   "cell_type": "markdown",
   "id": "pWV0XeWgmPb7",
   "metadata": {
    "id": "pWV0XeWgmPb7"
   },
   "source": [
    "- 'annual_wage' column has been added to the dataset."
   ]
  },
  {
   "cell_type": "code",
   "execution_count": null,
   "id": "ceb49d96-79ca-40ba-827a-5465d349d289",
   "metadata": {
    "id": "ceb49d96-79ca-40ba-827a-5465d349d289"
   },
   "outputs": [],
   "source": []
  },
  {
   "cell_type": "markdown",
   "id": "45e0d8ec-152c-4188-9d3a-3acee9c3ad13",
   "metadata": {
    "id": "45e0d8ec-152c-4188-9d3a-3acee9c3ad13"
   },
   "source": [
    "## Univariate Analysis"
   ]
  },
  {
   "cell_type": "code",
   "execution_count": 14,
   "id": "2f8548e4-cb66-4ba4-a3df-f403c6bb3ce9",
   "metadata": {
    "id": "2f8548e4-cb66-4ba4-a3df-f403c6bb3ce9"
   },
   "outputs": [],
   "source": [
    "# Declaring a list of numerical variables\n",
    "num_vars = ['no_of_employees', 'yr_of_estab', 'annual_wage']\n",
    "\n",
    "# Declaring a list of categorical variables\n",
    "cat_vars = ['continent', 'education_of_employee', 'has_job_experience', 'requires_job_training', 'region_of_employment',\n",
    "            'unit_of_wage', 'full_time_position', 'case_status']"
   ]
  },
  {
   "cell_type": "markdown",
   "id": "7O4SkO7ZBlWJ",
   "metadata": {
    "id": "7O4SkO7ZBlWJ"
   },
   "source": [
    "#### Observation on no_of_employees"
   ]
  },
  {
   "cell_type": "code",
   "execution_count": 15,
   "id": "8853cb0f-32dc-4c78-a877-61d19638eb6e",
   "metadata": {
    "colab": {
     "base_uri": "https://localhost:8080/"
    },
    "id": "8853cb0f-32dc-4c78-a877-61d19638eb6e",
    "outputId": "aa12c53e-f104-47f4-c80e-47ff6409567b"
   },
   "outputs": [
    {
     "name": "stdout",
     "output_type": "stream",
     "text": [
      "Number of companies having upto ten thousand employees: 24044\n",
      "Number of companies having more than ten thousand and upto one lakh employees: 1165\n",
      "Number of companies having greater than one lakh employees: 271\n"
     ]
    }
   ],
   "source": [
    "print('Number of companies having upto ten thousand employees:', data[data['no_of_employees'] <= 10000].shape[0])\n",
    "print('Number of companies having more than ten thousand and upto one lakh employees:', data[(data['no_of_employees'] > 10000) & (data['no_of_employees'] <= 100000)].shape[0])\n",
    "print('Number of companies having greater than one lakh employees:', data[data['no_of_employees'] > 100000].shape[0])"
   ]
  },
  {
   "cell_type": "code",
   "execution_count": 16,
   "id": "8b3cc649-2f6c-4103-b98e-e28b5e76a985",
   "metadata": {
    "colab": {
     "base_uri": "https://localhost:8080/",
     "height": 465
    },
    "id": "8b3cc649-2f6c-4103-b98e-e28b5e76a985",
    "jp-MarkdownHeadingCollapsed": true,
    "outputId": "ffc41a1c-aacf-4677-d70c-f8405a9762d6"
   },
   "outputs": [
    {
     "data": {
      "image/png": "[encoded data removed]",
      "text/plain": [
       "<Figure size 576x360 with 1 Axes>"
      ]
     },
     "metadata": {
      "needs_background": "light"
     },
     "output_type": "display_data"
    }
   ],
   "source": [
    "plt.figure(figsize=(8, 5))\n",
    "sns.histplot(data=data, x='no_of_employees', bins=100, kde=True, color='blue')\n",
    "plt.show()"
   ]
  },
  {
   "cell_type": "markdown",
   "id": "Ubn0NERtCACt",
   "metadata": {
    "id": "Ubn0NERtCACt"
   },
   "source": [
    "- The distribution for no_of_employees is highly right skewed with most of the companies having less than 10000 employees.\n",
    "- Over 24000 companies have number of employees less than or equal to 10000.\n",
    "- 1165 companies have number of employees more than 10000 and less than a 100000.\n",
    "- Only 271 companies have number of employees greater than a lakh. We will not replace these outliers since it is possible for the companies to have lakhs of employees."
   ]
  },
  {
   "cell_type": "markdown",
   "id": "6YcHQARRDv5X",
   "metadata": {
    "id": "6YcHQARRDv5X"
   },
   "source": [
    "#### Observation on yr_of_estab"
   ]
  },
  {
   "cell_type": "code",
   "execution_count": 17,
   "id": "5c45c21f-19dc-4230-95f2-7fbe84c22c07",
   "metadata": {
    "colab": {
     "base_uri": "https://localhost:8080/",
     "height": 465
    },
    "id": "5c45c21f-19dc-4230-95f2-7fbe84c22c07",
    "outputId": "f4ada6ee-0148-49af-bab5-457744b50a78"
   },
   "outputs": [
    {
     "data": {
      "image/png": "[encoded data removed]",
      "text/plain": [
       "<Figure size 576x360 with 1 Axes>"
      ]
     },
     "metadata": {
      "needs_background": "light"
     },
     "output_type": "display_data"
    }
   ],
   "source": [
    "plt.figure(figsize=(8, 5))\n",
    "sns.histplot(data=data, x='yr_of_estab', bins=100, kde=True, color='blue')\n",
    "plt.show()"
   ]
  },
  {
   "cell_type": "code",
   "execution_count": 18,
   "id": "e2e22a60-fef2-4f6e-9826-a64d6db16099",
   "metadata": {
    "colab": {
     "base_uri": "https://localhost:8080/",
     "height": 465
    },
    "id": "e2e22a60-fef2-4f6e-9826-a64d6db16099",
    "outputId": "b8cf1b67-7de0-45f6-f194-70cbf1400a7a"
   },
   "outputs": [
    {
     "data": {
      "image/png": "[encoded data removed]",
      "text/plain": [
       "<Figure size 576x360 with 1 Axes>"
      ]
     },
     "metadata": {
      "needs_background": "light"
     },
     "output_type": "display_data"
    }
   ],
   "source": [
    "plt.figure(figsize=(8, 5))\n",
    "sns.boxplot(data=data,x='yr_of_estab')\n",
    "plt.show()"
   ]
  },
  {
   "cell_type": "markdown",
   "id": "TDhqJ-LPEnNp",
   "metadata": {
    "id": "TDhqJ-LPEnNp"
   },
   "source": [
    "- The distribution for yr_of_estab is left-skewed with most of the companies being established after 1990."
   ]
  },
  {
   "cell_type": "markdown",
   "id": "_OoFM1EBEoiF",
   "metadata": {
    "id": "_OoFM1EBEoiF"
   },
   "source": [
    "#### Observation on annual_wage"
   ]
  },
  {
   "cell_type": "code",
   "execution_count": 19,
   "id": "5af36bca-42f0-45b9-86fe-29a70011d980",
   "metadata": {
    "colab": {
     "base_uri": "https://localhost:8080/",
     "height": 465
    },
    "id": "5af36bca-42f0-45b9-86fe-29a70011d980",
    "outputId": "4b2fc84e-c5e4-4d5a-da52-86d948b2f7bf"
   },
   "outputs": [
    {
     "data": {
      "image/png": "[encoded data removed]",
      "text/plain": [
       "<Figure size 576x360 with 1 Axes>"
      ]
     },
     "metadata": {
      "needs_background": "light"
     },
     "output_type": "display_data"
    }
   ],
   "source": [
    "plt.figure(figsize=(8, 5))\n",
    "sns.histplot(data=data, x='annual_wage', bins=100, kde=True, color='blue')\n",
    "plt.show()"
   ]
  },
  {
   "cell_type": "code",
   "execution_count": 20,
   "id": "a94af08a-ef39-45da-a9b6-acd6f32cd7f7",
   "metadata": {
    "colab": {
     "base_uri": "https://localhost:8080/",
     "height": 465
    },
    "id": "a94af08a-ef39-45da-a9b6-acd6f32cd7f7",
    "outputId": "1c4f9e76-bcdc-4f45-df22-bffacde877d2"
   },
   "outputs": [
    {
     "data": {
      "image/png": "[encoded data removed]",
      "text/plain": [
       "<Figure size 576x360 with 1 Axes>"
      ]
     },
     "metadata": {
      "needs_background": "light"
     },
     "output_type": "display_data"
    }
   ],
   "source": [
    "plt.figure(figsize=(8, 5))\n",
    "sns.boxplot(data=data,x='annual_wage')\n",
    "plt.show()"
   ]
  },
  {
   "cell_type": "markdown",
   "id": "P-f59Q5oFLQf",
   "metadata": {
    "id": "P-f59Q5oFLQf"
   },
   "source": [
    "The distribution of annual_wage is highly right skewed with most of the employees having a annual salary of less than two hundred thousand."
   ]
  },
  {
   "cell_type": "markdown",
   "id": "3y_f5P1YGREf",
   "metadata": {
    "id": "3y_f5P1YGREf"
   },
   "source": [
    "#### Observation on continent"
   ]
  },
  {
   "cell_type": "code",
   "execution_count": 21,
   "id": "25bcb13a-1529-4c18-bba9-98011279ec47",
   "metadata": {
    "colab": {
     "base_uri": "https://localhost:8080/",
     "height": 303
    },
    "id": "25bcb13a-1529-4c18-bba9-98011279ec47",
    "outputId": "65a39cc4-a220-44da-d96a-071a9d1f65e8"
   },
   "outputs": [
    {
     "data": {
      "text/plain": [
       "continent\n",
       "Asia             16861\n",
       "Europe            3732\n",
       "North America     3292\n",
       "South America      852\n",
       "Africa             551\n",
       "Oceania            192\n",
       "Name: count, dtype: int64"
      ]
     },
     "execution_count": 21,
     "metadata": {},
     "output_type": "execute_result"
    }
   ],
   "source": [
    "data['continent'].value_counts()"
   ]
  },
  {
   "cell_type": "code",
   "execution_count": 22,
   "id": "974e7bb5-3b47-4699-9759-ec546f89d80a",
   "metadata": {
    "colab": {
     "base_uri": "https://localhost:8080/",
     "height": 517
    },
    "id": "974e7bb5-3b47-4699-9759-ec546f89d80a",
    "outputId": "4b360f20-5a4f-4b95-acc7-80a1c41d9420"
   },
   "outputs": [
    {
     "data": {
      "image/png": "[encoded data removed]",
      "text/plain": [
       "<Figure size 432x288 with 1 Axes>"
      ]
     },
     "metadata": {
      "needs_background": "light"
     },
     "output_type": "display_data"
    }
   ],
   "source": [
    "sns.countplot(data = data, x = 'continent')\n",
    "plt.xticks(rotation=45);"
   ]
  },
  {
   "cell_type": "markdown",
   "id": "ivRIfZooGW6g",
   "metadata": {
    "id": "ivRIfZooGW6g"
   },
   "source": [
    "- Most of the applicants are from Asia.\n",
    "- Very few applicants are from Africa and Oceania."
   ]
  },
  {
   "cell_type": "markdown",
   "id": "q9QSDrtfGWj9",
   "metadata": {
    "id": "q9QSDrtfGWj9"
   },
   "source": [
    "#### Observation on education_of_employee"
   ]
  },
  {
   "cell_type": "code",
   "execution_count": 23,
   "id": "acf71d74-cbff-42be-84dd-fd7f4beea302",
   "metadata": {
    "colab": {
     "base_uri": "https://localhost:8080/",
     "height": 241
    },
    "id": "acf71d74-cbff-42be-84dd-fd7f4beea302",
    "outputId": "fefd8a34-1245-4afe-a3d2-f51494da4da6"
   },
   "outputs": [
    {
     "data": {
      "text/plain": [
       "education_of_employee\n",
       "Bachelor's     10234\n",
       "Master's        9634\n",
       "High School     3420\n",
       "Doctorate       2192\n",
       "Name: count, dtype: int64"
      ]
     },
     "execution_count": 23,
     "metadata": {},
     "output_type": "execute_result"
    }
   ],
   "source": [
    "data['education_of_employee'].value_counts()"
   ]
  },
  {
   "cell_type": "code",
   "execution_count": 24,
   "id": "e875c85f-f20b-4907-b441-ac5b2fd2b13a",
   "metadata": {
    "colab": {
     "base_uri": "https://localhost:8080/",
     "height": 504
    },
    "id": "e875c85f-f20b-4907-b441-ac5b2fd2b13a",
    "outputId": "2c558427-76f5-4079-ba47-290164dc7711"
   },
   "outputs": [
    {
     "data": {
      "image/png": "[encoded data removed]",
      "text/plain": [
       "<Figure size 432x288 with 1 Axes>"
      ]
     },
     "metadata": {
      "needs_background": "light"
     },
     "output_type": "display_data"
    }
   ],
   "source": [
    "sns.countplot(data = data, x = 'education_of_employee')\n",
    "plt.xticks(rotation=45);"
   ]
  },
  {
   "cell_type": "markdown",
   "id": "7Ksh7JenGqRL",
   "metadata": {
    "id": "7Ksh7JenGqRL"
   },
   "source": [
    "- Applicants who have completed their Bachelor's or Master's degree are almost triple in numbers compared to those who have completed High School or Doctorate."
   ]
  },
  {
   "cell_type": "markdown",
   "id": "90F-R5tKHDlE",
   "metadata": {
    "id": "90F-R5tKHDlE"
   },
   "source": [
    "#### Observation on has_job_experience"
   ]
  },
  {
   "cell_type": "code",
   "execution_count": 25,
   "id": "78488553-3632-4e1d-b221-4295d1565eb9",
   "metadata": {
    "colab": {
     "base_uri": "https://localhost:8080/",
     "height": 178
    },
    "id": "78488553-3632-4e1d-b221-4295d1565eb9",
    "outputId": "a84fe695-05fd-40f9-ba89-c428a21c1f92"
   },
   "outputs": [
    {
     "data": {
      "text/plain": [
       "has_job_experience\n",
       "Y    14802\n",
       "N    10678\n",
       "Name: count, dtype: int64"
      ]
     },
     "execution_count": 25,
     "metadata": {},
     "output_type": "execute_result"
    }
   ],
   "source": [
    "data['has_job_experience'].value_counts()"
   ]
  },
  {
   "cell_type": "code",
   "execution_count": 26,
   "id": "9d788eaa-0eef-46e6-b2f7-540fb808e037",
   "metadata": {
    "colab": {
     "base_uri": "https://localhost:8080/",
     "height": 453
    },
    "id": "9d788eaa-0eef-46e6-b2f7-540fb808e037",
    "outputId": "5b3c868e-b7e0-400a-d634-773f35fbafbd"
   },
   "outputs": [
    {
     "data": {
      "image/png": "[encoded data removed]",
      "text/plain": [
       "<Figure size 432x288 with 1 Axes>"
      ]
     },
     "metadata": {
      "needs_background": "light"
     },
     "output_type": "display_data"
    }
   ],
   "source": [
    "sns.countplot(data = data, x = 'has_job_experience')\n",
    "plt.xticks(rotation=45);"
   ]
  },
  {
   "cell_type": "markdown",
   "id": "Q79ZSY3SHkQd",
   "metadata": {
    "id": "Q79ZSY3SHkQd"
   },
   "source": [
    "- 14802 number of applicants have job experience while 10678 don't."
   ]
  },
  {
   "cell_type": "markdown",
   "id": "O2Bt1iVTHtMW",
   "metadata": {
    "id": "O2Bt1iVTHtMW"
   },
   "source": [
    "#### Observation on requires_job_training"
   ]
  },
  {
   "cell_type": "code",
   "execution_count": 27,
   "id": "41195ba5-b5d5-459f-8e1a-d14ed9c429f1",
   "metadata": {
    "colab": {
     "base_uri": "https://localhost:8080/",
     "height": 178
    },
    "id": "41195ba5-b5d5-459f-8e1a-d14ed9c429f1",
    "outputId": "91842bcf-b37b-433a-9857-892e837ef7b3"
   },
   "outputs": [
    {
     "data": {
      "text/plain": [
       "requires_job_training\n",
       "N    22525\n",
       "Y     2955\n",
       "Name: count, dtype: int64"
      ]
     },
     "execution_count": 27,
     "metadata": {},
     "output_type": "execute_result"
    }
   ],
   "source": [
    "data['requires_job_training'].value_counts()"
   ]
  },
  {
   "cell_type": "code",
   "execution_count": 28,
   "id": "32aecb3c-c432-47aa-9f54-4484b92f6dcb",
   "metadata": {
    "colab": {
     "base_uri": "https://localhost:8080/",
     "height": 453
    },
    "id": "32aecb3c-c432-47aa-9f54-4484b92f6dcb",
    "outputId": "838785a6-a158-4ac0-8ce4-b2a6c9c80094"
   },
   "outputs": [
    {
     "data": {
      "image/png": "[encoded data removed]",
      "text/plain": [
       "<Figure size 432x288 with 1 Axes>"
      ]
     },
     "metadata": {
      "needs_background": "light"
     },
     "output_type": "display_data"
    }
   ],
   "source": [
    "sns.countplot(data = data, x = 'requires_job_training')\n",
    "plt.xticks(rotation=45);"
   ]
  },
  {
   "cell_type": "markdown",
   "id": "4a-NH5sGH15d",
   "metadata": {
    "id": "4a-NH5sGH15d"
   },
   "source": [
    "- Most of the applicants do not require job training. Only ~3000 applicants requre job training."
   ]
  },
  {
   "cell_type": "markdown",
   "id": "cCmenc51IEkb",
   "metadata": {
    "id": "cCmenc51IEkb"
   },
   "source": [
    "#### Observation on region_of_employment"
   ]
  },
  {
   "cell_type": "code",
   "execution_count": 29,
   "id": "c5e7f2cf-1424-4057-8950-1ec3deff3f31",
   "metadata": {
    "colab": {
     "base_uri": "https://localhost:8080/",
     "height": 272
    },
    "id": "c5e7f2cf-1424-4057-8950-1ec3deff3f31",
    "outputId": "2a597889-c9d7-4b50-88cb-4160cfc6b1de"
   },
   "outputs": [
    {
     "data": {
      "text/plain": [
       "region_of_employment\n",
       "Northeast    7195\n",
       "South        7017\n",
       "West         6586\n",
       "Midwest      4307\n",
       "Island        375\n",
       "Name: count, dtype: int64"
      ]
     },
     "execution_count": 29,
     "metadata": {},
     "output_type": "execute_result"
    }
   ],
   "source": [
    "data['region_of_employment'].value_counts()"
   ]
  },
  {
   "cell_type": "code",
   "execution_count": 30,
   "id": "3c297901-c6a7-47ad-8fb4-873ac5ba28e9",
   "metadata": {
    "colab": {
     "base_uri": "https://localhost:8080/",
     "height": 494
    },
    "id": "3c297901-c6a7-47ad-8fb4-873ac5ba28e9",
    "outputId": "e18b3278-5068-45d6-c673-587b188aceb7"
   },
   "outputs": [
    {
     "data": {
      "image/png": "[encoded data removed]",
      "text/plain": [
       "<Figure size 432x288 with 1 Axes>"
      ]
     },
     "metadata": {
      "needs_background": "light"
     },
     "output_type": "display_data"
    }
   ],
   "source": [
    "sns.countplot(data = data, x = 'region_of_employment')\n",
    "plt.xticks(rotation=45);"
   ]
  },
  {
   "cell_type": "markdown",
   "id": "Zl_l8nAFIXS6",
   "metadata": {
    "id": "Zl_l8nAFIXS6"
   },
   "source": [
    "- Applicants whose employment is in Midwest region are ~4000 and those in Island region is less than 500. These are the least ones.\n",
    "- All other regions have applicants more than 6000.\n"
   ]
  },
  {
   "cell_type": "markdown",
   "id": "M6aolT3aI08S",
   "metadata": {
    "id": "M6aolT3aI08S"
   },
   "source": [
    "#### Observation on unit_of_wage"
   ]
  },
  {
   "cell_type": "code",
   "execution_count": 31,
   "id": "1bb81d34-c78d-4ac0-acc7-4d8f7af95dc3",
   "metadata": {
    "colab": {
     "base_uri": "https://localhost:8080/",
     "height": 241
    },
    "id": "1bb81d34-c78d-4ac0-acc7-4d8f7af95dc3",
    "outputId": "59afc035-12bf-4740-ff45-87fdccd2ef35"
   },
   "outputs": [
    {
     "data": {
      "text/plain": [
       "unit_of_wage\n",
       "Year     22962\n",
       "Hour      2157\n",
       "Week       272\n",
       "Month       89\n",
       "Name: count, dtype: int64"
      ]
     },
     "execution_count": 31,
     "metadata": {},
     "output_type": "execute_result"
    }
   ],
   "source": [
    "data['unit_of_wage'].value_counts()"
   ]
  },
  {
   "cell_type": "code",
   "execution_count": 32,
   "id": "40612cf7-e9da-4daf-afda-c8245956f688",
   "metadata": {
    "colab": {
     "base_uri": "https://localhost:8080/",
     "height": 476
    },
    "id": "40612cf7-e9da-4daf-afda-c8245956f688",
    "outputId": "73cc669d-5733-492e-bd97-abc2aa9cb558"
   },
   "outputs": [
    {
     "data": {
      "image/png": "[encoded data removed]",
      "text/plain": [
       "<Figure size 432x288 with 1 Axes>"
      ]
     },
     "metadata": {
      "needs_background": "light"
     },
     "output_type": "display_data"
    }
   ],
   "source": [
    "sns.countplot(data = data, x = 'unit_of_wage')\n",
    "plt.xticks(rotation=45);"
   ]
  },
  {
   "cell_type": "markdown",
   "id": "--Sa10-qJD3i",
   "metadata": {
    "id": "--Sa10-qJD3i"
   },
   "source": [
    "- Applicants whose unit of wage is Yearly are the highest: apprx. 23000.\n",
    "- Those with Hourly wage are apprx. 2000.\n",
    "- Weekly and montlhly waged workers are very few."
   ]
  },
  {
   "cell_type": "markdown",
   "id": "OX7FRNXkJfM9",
   "metadata": {
    "id": "OX7FRNXkJfM9"
   },
   "source": [
    "#### Observation on full_time_position"
   ]
  },
  {
   "cell_type": "code",
   "execution_count": 33,
   "id": "d715dad9-480d-45a4-b08e-25aa2b0b21c1",
   "metadata": {
    "colab": {
     "base_uri": "https://localhost:8080/",
     "height": 178
    },
    "id": "d715dad9-480d-45a4-b08e-25aa2b0b21c1",
    "outputId": "021c8946-c8ff-4dee-edf4-6e30707159fd"
   },
   "outputs": [
    {
     "data": {
      "text/plain": [
       "full_time_position\n",
       "Y    22773\n",
       "N     2707\n",
       "Name: count, dtype: int64"
      ]
     },
     "execution_count": 33,
     "metadata": {},
     "output_type": "execute_result"
    }
   ],
   "source": [
    "data['full_time_position'].value_counts()"
   ]
  },
  {
   "cell_type": "code",
   "execution_count": 34,
   "id": "23ad1419-91d6-4ba6-a7a4-281ee7ca1ca4",
   "metadata": {
    "colab": {
     "base_uri": "https://localhost:8080/",
     "height": 453
    },
    "id": "23ad1419-91d6-4ba6-a7a4-281ee7ca1ca4",
    "outputId": "504f7b17-dfb7-4058-dc41-d4197f19a5f2"
   },
   "outputs": [
    {
     "data": {
      "image/png": "[encoded data removed]",
      "text/plain": [
       "<Figure size 432x288 with 1 Axes>"
      ]
     },
     "metadata": {
      "needs_background": "light"
     },
     "output_type": "display_data"
    }
   ],
   "source": [
    "sns.countplot(data = data, x = 'full_time_position')\n",
    "plt.xticks(rotation=45);"
   ]
  },
  {
   "cell_type": "markdown",
   "id": "HiyQZrdIJyJk",
   "metadata": {
    "id": "HiyQZrdIJyJk"
   },
   "source": [
    "- Most of the applicants have a full time job.\n",
    "- Only nearly 3000 of them do not have full time job."
   ]
  },
  {
   "cell_type": "markdown",
   "id": "L_6yvlDgJ_mJ",
   "metadata": {
    "id": "L_6yvlDgJ_mJ"
   },
   "source": [
    "#### Observation on case_status (Target Variable)"
   ]
  },
  {
   "cell_type": "code",
   "execution_count": 35,
   "id": "e852f0ea-a756-43da-9891-e03d18b5533b",
   "metadata": {
    "colab": {
     "base_uri": "https://localhost:8080/",
     "height": 178
    },
    "id": "e852f0ea-a756-43da-9891-e03d18b5533b",
    "outputId": "9b56fc13-056a-42c7-a626-7b74a1c543ac"
   },
   "outputs": [
    {
     "data": {
      "text/plain": [
       "case_status\n",
       "Certified    17018\n",
       "Denied        8462\n",
       "Name: count, dtype: int64"
      ]
     },
     "execution_count": 35,
     "metadata": {},
     "output_type": "execute_result"
    }
   ],
   "source": [
    "data['case_status'].value_counts()"
   ]
  },
  {
   "cell_type": "code",
   "execution_count": 36,
   "id": "77c74286-3171-4d21-ba39-163402ba6007",
   "metadata": {
    "colab": {
     "base_uri": "https://localhost:8080/",
     "height": 444
    },
    "id": "77c74286-3171-4d21-ba39-163402ba6007",
    "outputId": "63a8833d-2249-4c2d-8302-e1612cae30ad"
   },
   "outputs": [
    {
     "data": {
      "image/png": "[encoded data removed]",
      "text/plain": [
       "<Figure size 360x360 with 1 Axes>"
      ]
     },
     "metadata": {},
     "output_type": "display_data"
    }
   ],
   "source": [
    "case_counts = data['case_status'].value_counts()\n",
    "\n",
    "# Create a pie chart\n",
    "plt.figure(figsize=(5, 5))\n",
    "plt.pie(case_counts, labels=case_counts.index, autopct='%1.1f%%', startangle=90, colors=['skyblue', 'lightcoral', 'lightgreen', 'gold'])\n",
    "plt.title(\"Distribution of Case Status\")\n",
    "plt.show()"
   ]
  },
  {
   "cell_type": "markdown",
   "id": "dQhoYptkKP20",
   "metadata": {
    "id": "dQhoYptkKP20"
   },
   "source": [
    "- The number of applicants whose Visa was approved is twice the number of applicants whose Visa was not approved.\n",
    "- The dataset is imbalanced with 'Certified'(class 1) class having high count. So, we will focus on F1 score to evaluate the performance of the models."
   ]
  },
  {
   "cell_type": "code",
   "execution_count": null,
   "id": "5175c24a-f656-409d-8a36-975d9b3d08d5",
   "metadata": {
    "id": "5175c24a-f656-409d-8a36-975d9b3d08d5"
   },
   "outputs": [],
   "source": []
  },
  {
   "cell_type": "markdown",
   "id": "ea2155ae-d229-4778-9441-e6339a3c6846",
   "metadata": {
    "id": "ea2155ae-d229-4778-9441-e6339a3c6846"
   },
   "source": [
    "## Bivariate Analysis"
   ]
  },
  {
   "cell_type": "code",
   "execution_count": 37,
   "id": "721c2064-95f7-436a-a885-1a3e24babb32",
   "metadata": {
    "colab": {
     "base_uri": "https://localhost:8080/",
     "height": 884
    },
    "id": "721c2064-95f7-436a-a885-1a3e24babb32",
    "outputId": "7b47f289-ae09-46e6-c36f-6a65a1104aac"
   },
   "outputs": [
    {
     "data": {
      "image/png": "[encoded data removed]",
      "text/plain": [
       "<Figure size 1050.88x648 with 12 Axes>"
      ]
     },
     "metadata": {
      "needs_background": "light"
     },
     "output_type": "display_data"
    }
   ],
   "source": [
    "# Pairplot to visualize relationships between numerical variables, colored by 'case_status'\n",
    "\n",
    "sns.pairplot(data,\n",
    "             hue='case_status',\n",
    "             vars=num_vars,\n",
    "             diag_kind='kde',\n",
    "             height=3,\n",
    "             aspect=1.5)\n",
    "plt.show();"
   ]
  },
  {
   "cell_type": "markdown",
   "id": "HQ_9hTiMQq3z",
   "metadata": {
    "id": "HQ_9hTiMQq3z"
   },
   "source": [
    "- There seems to be a slight positive correlation between yr_of_estab (year of establishment) and annual_wage, meaning older companies might offer higher wages.\n",
    "- No clear linear correlation between no_of_employees and annual_wage, but some companies with very high employee counts have high wages.\n",
    "- Older companies (higher yr_of_estab) seem to have a higher chance of certification."
   ]
  },
  {
   "cell_type": "code",
   "execution_count": 38,
   "id": "4de93682-def5-409a-a2b9-83912682d501",
   "metadata": {
    "colab": {
     "base_uri": "https://localhost:8080/",
     "height": 435
    },
    "id": "4de93682-def5-409a-a2b9-83912682d501",
    "outputId": "9180a067-6b8e-4ba0-eda0-7f410474ebc3"
   },
   "outputs": [
    {
     "data": {
      "image/png": "[encoded data removed]",
      "text/plain": [
       "<Figure size 432x288 with 2 Axes>"
      ]
     },
     "metadata": {
      "needs_background": "light"
     },
     "output_type": "display_data"
    }
   ],
   "source": [
    "# Create a heatmap to show the correlation between numerical variables\n",
    "\n",
    "sns.heatmap(data[num_vars].corr(), vmin=-1, fmt='.2f', annot=True, cmap='Spectral');"
   ]
  },
  {
   "cell_type": "markdown",
   "id": "1mKg7IO8ROqA",
   "metadata": {
    "id": "1mKg7IO8ROqA"
   },
   "source": [
    "- The correlation values between no_of_employees, yr_of_estab, and annual_wage are all close to 0, meaning there is almost no linear relationship between these features.\n",
    "- This suggests that these features are independent and do not influence each other directly."
   ]
  },
  {
   "cell_type": "markdown",
   "id": "3Ety-tcsRTAs",
   "metadata": {
    "id": "3Ety-tcsRTAs"
   },
   "source": [
    "#### no_of_employees vs case_status"
   ]
  },
  {
   "cell_type": "code",
   "execution_count": 39,
   "id": "11882768-76ee-40f6-b804-015a20eec618",
   "metadata": {
    "colab": {
     "base_uri": "https://localhost:8080/",
     "height": 449
    },
    "id": "11882768-76ee-40f6-b804-015a20eec618",
    "outputId": "3f9c5545-d08e-4ff4-8ac1-7a2b56e4aa7f"
   },
   "outputs": [
    {
     "data": {
      "image/png": "[encoded data removed]",
      "text/plain": [
       "<Figure size 432x288 with 1 Axes>"
      ]
     },
     "metadata": {
      "needs_background": "light"
     },
     "output_type": "display_data"
    }
   ],
   "source": [
    "# Create a boxplot to show the case_status distribution for no_of_employees\n",
    "sns.boxplot(x=data['case_status'], y=data['no_of_employees'])\n",
    "plt.title('')\n",
    "\n",
    "# Display the plot\n",
    "plt.show()"
   ]
  },
  {
   "cell_type": "markdown",
   "id": "OcDmNCJpR4Lw",
   "metadata": {
    "id": "OcDmNCJpR4Lw"
   },
   "source": [
    "- The interquartile range is very small, meaning most companies have a similar range of employees.\n",
    "- Since both categories (Certified and Denied) follow almost the same distribution, this suggests that the number of employees may not be a strong predictor of visa approval."
   ]
  },
  {
   "cell_type": "markdown",
   "id": "SxHNSZ-RSX8s",
   "metadata": {
    "id": "SxHNSZ-RSX8s"
   },
   "source": [
    "#### yr_of_estab vs case_status"
   ]
  },
  {
   "cell_type": "code",
   "execution_count": 40,
   "id": "77ee8d64-e6ab-4934-9f93-10831ea3a1a8",
   "metadata": {
    "colab": {
     "base_uri": "https://localhost:8080/",
     "height": 449
    },
    "id": "77ee8d64-e6ab-4934-9f93-10831ea3a1a8",
    "outputId": "226477aa-b9a0-49a6-9d5e-1dd7e8b80ff5"
   },
   "outputs": [
    {
     "data": {
      "image/png": "[encoded data removed]",
      "text/plain": [
       "<Figure size 432x288 with 1 Axes>"
      ]
     },
     "metadata": {
      "needs_background": "light"
     },
     "output_type": "display_data"
    }
   ],
   "source": [
    "# Create a boxplot to show the case_status distribution for no_of_employees\n",
    "sns.boxplot(x=data['case_status'], y=data['yr_of_estab'])\n",
    "plt.title('')\n",
    "\n",
    "# Display the plot\n",
    "plt.show()"
   ]
  },
  {
   "cell_type": "markdown",
   "id": "jl37Hf66SrGI",
   "metadata": {
    "id": "jl37Hf66SrGI"
   },
   "source": [
    "- The median year of establishment for both Certified and Denied cases is around 2000, indicating that most companies in the dataset were established in the last few decades.The interquartile range (IQR) is also nearly identical for both categories.\n",
    "- Older companies are present in both categories, meaning longevity does not significantly impact visa certification likelihood."
   ]
  },
  {
   "cell_type": "markdown",
   "id": "rmliXN2XTStU",
   "metadata": {
    "id": "rmliXN2XTStU"
   },
   "source": [
    "#### annual_wage vs case_status"
   ]
  },
  {
   "cell_type": "code",
   "execution_count": 41,
   "id": "31882b85-ab34-4735-bc2d-0622c5c894ab",
   "metadata": {
    "colab": {
     "base_uri": "https://localhost:8080/",
     "height": 465
    },
    "id": "31882b85-ab34-4735-bc2d-0622c5c894ab",
    "outputId": "de7643fd-c37e-423f-f6b5-9a72cb783cac"
   },
   "outputs": [
    {
     "data": {
      "image/png": "[encoded data removed]",
      "text/plain": [
       "<Figure size 432x288 with 1 Axes>"
      ]
     },
     "metadata": {
      "needs_background": "light"
     },
     "output_type": "display_data"
    }
   ],
   "source": [
    "# Create a boxplot to show the case_status distribution for no_of_employees\n",
    "sns.boxplot(x=data['case_status'], y=data['annual_wage'])\n",
    "plt.title('')\n",
    "\n",
    "# Display the plot\n",
    "plt.show()"
   ]
  },
  {
   "cell_type": "markdown",
   "id": "HVwJrTmtTab0",
   "metadata": {
    "id": "HVwJrTmtTab0"
   },
   "source": [
    "- Several cases have extremely high annual wages (over $10 million). These high-wage outliers exist in both Certified and Denied cases.\n",
    "- Since both distributions are nearly the same, higher wages do not necessarily increase the likelihood of visa certification.Companies offering both low and high salaries have both approved and denied applications."
   ]
  },
  {
   "cell_type": "markdown",
   "id": "TCnS2M-gUtx5",
   "metadata": {
    "id": "TCnS2M-gUtx5"
   },
   "source": [
    "#### Continent vs case_status"
   ]
  },
  {
   "cell_type": "code",
   "execution_count": 42,
   "id": "5e4adc1f-e137-446a-a241-2e9d480a26e9",
   "metadata": {
    "colab": {
     "base_uri": "https://localhost:8080/",
     "height": 521
    },
    "id": "5e4adc1f-e137-446a-a241-2e9d480a26e9",
    "outputId": "da6daa03-c8ef-48e5-cc2c-e45d15b4e0ec"
   },
   "outputs": [
    {
     "data": {
      "image/png": "[encoded data removed]",
      "text/plain": [
       "<Figure size 864x360 with 1 Axes>"
      ]
     },
     "metadata": {
      "needs_background": "light"
     },
     "output_type": "display_data"
    }
   ],
   "source": [
    "plt.subplots(figsize=(12,5))\n",
    "sns.countplot(x=\"continent\",hue=\"case_status\", data=data, ec = \"black\",palette=\"Accent\")\n",
    "plt.title(\"Continent vs Visa Status\", weight=\"bold\",fontsize=20, pad=20)\n",
    "plt.ylabel(\"Count\", weight=\"bold\", fontsize=12)\n",
    "plt.xlabel(\"Continents\", weight=\"bold\", fontsize=16)\n",
    "plt.legend(title=\"Visa Status\", fancybox=True)\n",
    "plt.show()"
   ]
  },
  {
   "cell_type": "markdown",
   "id": "Ckt-icDNVIJo",
   "metadata": {
    "id": "Ckt-icDNVIJo"
   },
   "source": [
    "- Asia has the highest number of applicants, with a significant portion certified. However, it also has the highest number of denials, suggesting a higher rejection rate.\n",
    "- Europe and North America have a smaller but balanced number of applications.\n",
    "- South America and Oceania seem to have more Denied applications in proportion with Certified applications when compared to others."
   ]
  },
  {
   "cell_type": "markdown",
   "id": "D1wt9_kKWE-C",
   "metadata": {
    "id": "D1wt9_kKWE-C"
   },
   "source": [
    "#### education_of_employee vs case_status"
   ]
  },
  {
   "cell_type": "code",
   "execution_count": 43,
   "id": "160d9b36-1ed5-4d53-b880-df60ce7bcc7e",
   "metadata": {
    "colab": {
     "base_uri": "https://localhost:8080/",
     "height": 489
    },
    "id": "160d9b36-1ed5-4d53-b880-df60ce7bcc7e",
    "outputId": "b48528ac-668d-4be9-9439-c384b6626e7b"
   },
   "outputs": [
    {
     "data": {
      "image/png": "[encoded data removed]",
      "text/plain": [
       "<Figure size 864x360 with 1 Axes>"
      ]
     },
     "metadata": {
      "needs_background": "light"
     },
     "output_type": "display_data"
    }
   ],
   "source": [
    "plt.figure(figsize=[12,5])\n",
    "\n",
    "(100*data[data[\"case_status\"].isin(['Certified'])]['education_of_employee'].value_counts()/data['education_of_employee'].value_counts()).plot(\n",
    "    kind='bar',stacked=True , colormap='Accent')\n",
    "plt.title(\"Percentage of Certified vs Education of the employee\" , fontsize = 15, fontweight ='bold'  )\n",
    "order1 = (100*data[data[\"case_status\"].isin(['Certified'])]['education_of_employee'].value_counts()/data['education_of_employee'].value_counts())\n",
    "for n in range(order1.shape[0]):\n",
    "    count = order1[n]\n",
    "    strt='{:0.1f}%'.format(count)\n",
    "    plt.text(n,count+0.1,strt,ha='center')\n",
    "\n",
    "plt.xlabel('education_of_employee' , fontweight ='bold')\n",
    "plt.xticks(rotation=0)\n",
    "plt.show()"
   ]
  },
  {
   "cell_type": "markdown",
   "id": "TIy3G7XmtCkL",
   "metadata": {
    "id": "TIy3G7XmtCkL"
   },
   "source": [
    "- Doctorate holders have the highest approval rate (87.2%), followed by Master’s degree holders (78.6%).\n",
    "- Bachelor’s degree holders have a moderate approval rate (62.2%).\n",
    "- High school graduates have the lowest approval rate (34.0%)."
   ]
  },
  {
   "cell_type": "markdown",
   "id": "k0hPzeDQWi5o",
   "metadata": {
    "id": "k0hPzeDQWi5o"
   },
   "source": [
    "#### job_experience vs case_status"
   ]
  },
  {
   "cell_type": "code",
   "execution_count": 44,
   "id": "12f3fe4e-cd34-4467-bcb1-0a6a752214eb",
   "metadata": {
    "colab": {
     "base_uri": "https://localhost:8080/",
     "height": 206
    },
    "id": "12f3fe4e-cd34-4467-bcb1-0a6a752214eb",
    "outputId": "9b621d04-fd9d-46e7-c6aa-c04064c8aac0"
   },
   "outputs": [
    {
     "data": {
      "text/html": [
       "<div>\n",
       "<style scoped>\n",
       "    .dataframe tbody tr th:only-of-type {\n",
       "        vertical-align: middle;\n",
       "    }\n",
       "\n",
       "    .dataframe tbody tr th {\n",
       "        vertical-align: top;\n",
       "    }\n",
       "\n",
       "    .dataframe thead th {\n",
       "        text-align: right;\n",
       "    }\n",
       "</style>\n",
       "<table border=\"1\" class=\"dataframe\">\n",
       "  <thead>\n",
       "    <tr style=\"text-align: right;\">\n",
       "      <th></th>\n",
       "      <th></th>\n",
       "      <th>proportion</th>\n",
       "    </tr>\n",
       "    <tr>\n",
       "      <th>has_job_experience</th>\n",
       "      <th>case_status</th>\n",
       "      <th></th>\n",
       "    </tr>\n",
       "  </thead>\n",
       "  <tbody>\n",
       "    <tr>\n",
       "      <th rowspan=\"2\" valign=\"top\">N</th>\n",
       "      <th>Certified</th>\n",
       "      <td>56.134108</td>\n",
       "    </tr>\n",
       "    <tr>\n",
       "      <th>Denied</th>\n",
       "      <td>43.865892</td>\n",
       "    </tr>\n",
       "    <tr>\n",
       "      <th rowspan=\"2\" valign=\"top\">Y</th>\n",
       "      <th>Certified</th>\n",
       "      <td>74.476422</td>\n",
       "    </tr>\n",
       "    <tr>\n",
       "      <th>Denied</th>\n",
       "      <td>25.523578</td>\n",
       "    </tr>\n",
       "  </tbody>\n",
       "</table>\n",
       "</div>"
      ],
      "text/plain": [
       "                                proportion\n",
       "has_job_experience case_status            \n",
       "N                  Certified     56.134108\n",
       "                   Denied        43.865892\n",
       "Y                  Certified     74.476422\n",
       "                   Denied        25.523578"
      ]
     },
     "execution_count": 44,
     "metadata": {},
     "output_type": "execute_result"
    }
   ],
   "source": [
    "#group data by has_job_experience and count case_status\n",
    "data.groupby('has_job_experience')['case_status'].value_counts(normalize=True).to_frame()*100"
   ]
  },
  {
   "cell_type": "code",
   "execution_count": 45,
   "id": "ded73e1f-3101-44f2-98bc-adf4562b3200",
   "metadata": {
    "colab": {
     "base_uri": "https://localhost:8080/",
     "height": 522
    },
    "id": "ded73e1f-3101-44f2-98bc-adf4562b3200",
    "outputId": "bf9c3fe6-359f-47a5-b366-0f91adb5479b"
   },
   "outputs": [
    {
     "data": {
      "image/png": "[encoded data removed]",
      "text/plain": [
       "<Figure size 864x360 with 1 Axes>"
      ]
     },
     "metadata": {
      "needs_background": "light"
     },
     "output_type": "display_data"
    }
   ],
   "source": [
    "plt.subplots(figsize=(12,5))\n",
    "sns.countplot(x=\"has_job_experience\",hue=\"case_status\", data=data, ec= \"black\",palette=\"Accent\")\n",
    "plt.title(\"Previous Work Experience of Employee vs Visa Status\", weight=\"bold\",fontsize=20, pad=20)\n",
    "plt.ylabel(\"Count\", weight=\"bold\", fontsize=12)\n",
    "plt.xlabel(\"has_job_experience\", weight=\"bold\", fontsize=16)\n",
    "plt.legend(title=\"Visa Status\", fancybox=True)\n",
    "plt.show()"
   ]
  },
  {
   "cell_type": "markdown",
   "id": "0EdhaM6FWyCg",
   "metadata": {
    "id": "0EdhaM6FWyCg"
   },
   "source": [
    "- The majority of applicants with prior work experience (Y) are more likely to get visa certification. The denial count is significantly lower compared to those without experience.\n",
    "- A larger proportion of applicants without job experience (N) face visa denials. While some still receive certification, the denial rate is relatively high."
   ]
  },
  {
   "cell_type": "markdown",
   "id": "jql4zJVqXcL_",
   "metadata": {
    "id": "jql4zJVqXcL_"
   },
   "source": [
    "#### requires_job_training vs case_status"
   ]
  },
  {
   "cell_type": "code",
   "execution_count": 46,
   "id": "a43310bc-cfcc-4eb6-98d2-43a67acd097d",
   "metadata": {
    "colab": {
     "base_uri": "https://localhost:8080/",
     "height": 461
    },
    "id": "a43310bc-cfcc-4eb6-98d2-43a67acd097d",
    "outputId": "b8865d8e-cd4e-4411-974f-a01076d404cb"
   },
   "outputs": [
    {
     "data": {
      "image/png": "[encoded data removed]",
      "text/plain": [
       "<Figure size 720x360 with 1 Axes>"
      ]
     },
     "metadata": {
      "needs_background": "light"
     },
     "output_type": "display_data"
    }
   ],
   "source": [
    "# Create a crosstab for Education & Loan\n",
    "ct = pd.crosstab(data['requires_job_training'], data['case_status'], normalize='index') * 100\n",
    "\n",
    "# Plot Stacked Bar Chart\n",
    "ct.plot(kind='bar', stacked=True, figsize=(10,5))\n",
    "plt.title(\"\")\n",
    "plt.ylabel(\"Percentage\")\n",
    "plt.show()"
   ]
  },
  {
   "cell_type": "markdown",
   "id": "cnECUMCeXmBu",
   "metadata": {
    "id": "cnECUMCeXmBu"
   },
   "source": [
    "- Both categories (requires training = Y and N) have similar proportions of Certified and Denied cases.\n",
    "- The Certified cases (blue) appear to dominate in both groups. The percentage of denials (orange section) remains fairly constant between the two groups.\n",
    "- This suggests that requiring job training does not heavily impact the likelihood of visa approval."
   ]
  },
  {
   "cell_type": "markdown",
   "id": "3Vbl_8WMYDwf",
   "metadata": {
    "id": "3Vbl_8WMYDwf"
   },
   "source": [
    "#### region_of_employment vs case_status"
   ]
  },
  {
   "cell_type": "code",
   "execution_count": 47,
   "id": "a47353a7-9c7a-48ef-8b08-c6b28fca238a",
   "metadata": {
    "colab": {
     "base_uri": "https://localhost:8080/",
     "height": 522
    },
    "id": "a47353a7-9c7a-48ef-8b08-c6b28fca238a",
    "outputId": "0a5c32b1-1647-4345-e796-f4fa56a5d23c"
   },
   "outputs": [
    {
     "data": {
      "image/png": "[encoded data removed]",
      "text/plain": [
       "<Figure size 864x360 with 1 Axes>"
      ]
     },
     "metadata": {
      "needs_background": "light"
     },
     "output_type": "display_data"
    }
   ],
   "source": [
    "plt.subplots(figsize=(12,5))\n",
    "sns.countplot(x=\"region_of_employment\",hue=\"case_status\", data=data, ec = \"black\",palette=\"Accent\")\n",
    "plt.title(\"region_of_employment vs Visa Status\", weight=\"bold\",fontsize=20, pad=20)\n",
    "plt.ylabel(\"Count\", weight=\"bold\", fontsize=12)\n",
    "plt.xlabel(\"region_of_employment\", weight=\"bold\", fontsize=16)\n",
    "plt.legend(title=\"Visa Status\", fancybox=True)\n",
    "plt.show()"
   ]
  },
  {
   "cell_type": "markdown",
   "id": "TgGGUa--YNcY",
   "metadata": {
    "id": "TgGGUa--YNcY"
   },
   "source": [
    "- The South has the highest number of Certified visa applications, followed by the Northeast. The West and Midwest also have significant visa approvals.\n",
    "- Denials are Highest in the Northeast and West.\n",
    "- The Island category has the fewest applications overall, with both certifications and denials being minimal."
   ]
  },
  {
   "cell_type": "markdown",
   "id": "toYfxA9VYwLC",
   "metadata": {
    "id": "toYfxA9VYwLC"
   },
   "source": [
    "#### unit_of_wage vs case_status"
   ]
  },
  {
   "cell_type": "code",
   "execution_count": 48,
   "id": "aa1f7015-6090-4d9e-9b22-c2fb17cc4109",
   "metadata": {
    "colab": {
     "base_uri": "https://localhost:8080/",
     "height": 521
    },
    "id": "aa1f7015-6090-4d9e-9b22-c2fb17cc4109",
    "outputId": "13dc0ac6-105f-44dc-ac4e-58e50284146d"
   },
   "outputs": [
    {
     "data": {
      "image/png": "[encoded data removed]",
      "text/plain": [
       "<Figure size 864x360 with 1 Axes>"
      ]
     },
     "metadata": {
      "needs_background": "light"
     },
     "output_type": "display_data"
    }
   ],
   "source": [
    "plt.subplots(figsize=(12,5))\n",
    "sns.countplot(x=\"unit_of_wage\",hue=\"case_status\", data=data,ec='k', palette='Accent')\n",
    "plt.title(\"Unit of wage vs Visa Status\", weight=\"bold\",fontsize=20, pad=20)\n",
    "plt.xlabel(\"Unit of Wage\", weight=\"bold\", fontsize=16)\n",
    "plt.ylabel(\"Count\", weight=\"bold\", fontsize=12)\n",
    "plt.show()"
   ]
  },
  {
   "cell_type": "markdown",
   "id": "QieACelKY-ze",
   "metadata": {
    "id": "QieACelKY-ze"
   },
   "source": [
    "- A large majority of visa applications are based on yearly wages. Certified applications significantly outnumber denied applications for annual salaries.\n",
    "- Applications with hourly wages have higher denial rates compared to yearly wages. This suggests that jobs offering hourly wages might not meet the visa approval criteria as easily as salaried positions.\n",
    "- Few applications use \"Week\" or \"Month\" as the wage unit. The small numbers suggest these are uncommon ways to report wages in visa applications."
   ]
  },
  {
   "cell_type": "markdown",
   "id": "LDAAqvZUjvfz",
   "metadata": {
    "id": "LDAAqvZUjvfz"
   },
   "source": [
    "#### full_time_position vs case_status"
   ]
  },
  {
   "cell_type": "code",
   "execution_count": 49,
   "id": "c78742f6-bdb8-4db3-b5b3-1f5446d3151b",
   "metadata": {
    "colab": {
     "base_uri": "https://localhost:8080/",
     "height": 465
    },
    "id": "c78742f6-bdb8-4db3-b5b3-1f5446d3151b",
    "outputId": "88779eb1-53fe-4eed-dc90-c9b4cbd37c06"
   },
   "outputs": [
    {
     "data": {
      "image/png": "[encoded data removed]",
      "text/plain": [
       "<Figure size 720x360 with 1 Axes>"
      ]
     },
     "metadata": {
      "needs_background": "light"
     },
     "output_type": "display_data"
    }
   ],
   "source": [
    "# Set the figure size\n",
    "plt.figure(figsize=(10, 5))\n",
    "\n",
    "# Create a countplot to show loan acceptance by securities account holders\n",
    "sns.countplot(x=data['full_time_position'], hue=data['case_status'])\n",
    "plt.title(\"\")\n",
    "\n",
    "# Display the plot\n",
    "plt.show()"
   ]
  },
  {
   "cell_type": "markdown",
   "id": "fybZrRvSj5lM",
   "metadata": {
    "id": "fybZrRvSj5lM"
   },
   "source": [
    "- A majority of certified applications are for full-time positions. While some full-time applications are denied, the approval rate is significantly higher than denials.\n",
    "- Far fewer applications are for part-time positions. The rate of approval seems to be similar to full-time positions."
   ]
  },
  {
   "cell_type": "markdown",
   "id": "uqAsmhRikEoz",
   "metadata": {
    "id": "uqAsmhRikEoz"
   },
   "source": [
    "#### no_of_employees vs case_status"
   ]
  },
  {
   "cell_type": "code",
   "execution_count": 50,
   "id": "d0a9939b-b8ff-4004-91d4-473c4d185696",
   "metadata": {
    "colab": {
     "base_uri": "https://localhost:8080/",
     "height": 598
    },
    "id": "d0a9939b-b8ff-4004-91d4-473c4d185696",
    "outputId": "cc13d444-5079-480d-a0a0-8f779cefdd12"
   },
   "outputs": [
    {
     "data": {
      "image/png": "[encoded data removed]",
      "text/plain": [
       "<Figure size 576x432 with 1 Axes>"
      ]
     },
     "metadata": {
      "needs_background": "light"
     },
     "output_type": "display_data"
    }
   ],
   "source": [
    "plt.subplots(figsize=(8,6))\n",
    "sns.violinplot(x=\"case_status\",y='no_of_employees', data=data, palette=\"Accent\")\n",
    "plt.title(\"Number of employees vs Visa Status\", weight=\"bold\",fontsize=20, pad=20)\n",
    "plt.ylabel(\"Count\", weight=\"bold\", fontsize=12)\n",
    "plt.xlabel(\"Requires Job Training for Employee\", weight=\"bold\", fontsize=16)\n",
    "plt.ylim()\n",
    "plt.show()"
   ]
  },
  {
   "cell_type": "markdown",
   "id": "srXcRxegk6mv",
   "metadata": {
    "id": "srXcRxegk6mv"
   },
   "source": [
    "- The shape of the distributions for both categories is quite similar, meaning that whether a company requires job training or not does not significantly impact the number of employees it has.\n",
    "- There are companies with hundreds of thousands of employees, but they are rare. The extremely long vertical spread indicates that a small number of very large companies exist in both categories"
   ]
  },
  {
   "cell_type": "markdown",
   "id": "dzx3j4yVlOf3",
   "metadata": {
    "id": "dzx3j4yVlOf3"
   },
   "source": [
    "#### yr_of_estab vs case_status"
   ]
  },
  {
   "cell_type": "code",
   "execution_count": 51,
   "id": "3f0d18a9-ebe9-4260-8c3d-0c945e7a91a2",
   "metadata": {
    "colab": {
     "base_uri": "https://localhost:8080/",
     "height": 521
    },
    "id": "3f0d18a9-ebe9-4260-8c3d-0c945e7a91a2",
    "outputId": "3991c844-c0f8-4d95-d2f0-31a68be4d7d6"
   },
   "outputs": [
    {
     "data": {
      "image/png": "[encoded data removed]",
      "text/plain": [
       "<Figure size 864x360 with 1 Axes>"
      ]
     },
     "metadata": {
      "needs_background": "light"
     },
     "output_type": "display_data"
    }
   ],
   "source": [
    "plt.subplots(figsize=(12,5))\n",
    "sns.histplot(x=\"yr_of_estab\", data=data, bins=40, hue='case_status', palette='Set1') # Changed palette\n",
    "plt.title(\"Year of Establishment vs. Visa Status\", weight=\"bold\", fontsize=20, pad=20)\n",
    "plt.xlabel(\"Year of Establishment\", weight=\"bold\", fontsize=16)\n",
    "plt.ylabel(\"Count\", weight=\"bold\", fontsize=12) # Corrected y-axis label\n",
    "plt.show()"
   ]
  },
  {
   "cell_type": "markdown",
   "id": "kDskgQB-n6ut",
   "metadata": {
    "id": "kDskgQB-n6ut"
   },
   "source": [
    "- While both \"Denied\" and \"Certified\" applications increase for recent years, the \"Certified\" bars are consistently taller than the \"Denied\" bars. This suggests a higher rate of visa approval for companies established in recent years.\n",
    "- The number of visa applications is very low for companies established before 1950"
   ]
  },
  {
   "cell_type": "markdown",
   "id": "fa00e4ea-8a17-4f15-97ab-20590dc2efae",
   "metadata": {
    "id": "fa00e4ea-8a17-4f15-97ab-20590dc2efae"
   },
   "source": [
    "# Feature Engineering (Cont.)"
   ]
  },
  {
   "cell_type": "markdown",
   "id": "_Ns8DdBule77",
   "metadata": {
    "id": "_Ns8DdBule77"
   },
   "source": [
    "- As we saw that 'requires_job_training' attribute had very less impact on classifying the applicant's visa status, we will drop that column."
   ]
  },
  {
   "cell_type": "code",
   "execution_count": 52,
   "id": "b900c623-2e03-4371-87c5-fe86d81989c3",
   "metadata": {
    "id": "b900c623-2e03-4371-87c5-fe86d81989c3"
   },
   "outputs": [],
   "source": [
    "data.drop('requires_job_training', inplace=True, axis=1)"
   ]
  },
  {
   "cell_type": "markdown",
   "id": "6kPznYKPl2uC",
   "metadata": {
    "id": "6kPznYKPl2uC"
   },
   "source": [
    "- We will drop the 'prevailing_wage' attribute as we have added the 'annual_wage' column which will be more useful."
   ]
  },
  {
   "cell_type": "code",
   "execution_count": 53,
   "id": "210f37b2-dad6-44b7-a147-af477d48692c",
   "metadata": {
    "id": "210f37b2-dad6-44b7-a147-af477d48692c"
   },
   "outputs": [],
   "source": [
    "data.drop('prevailing_wage', inplace=True, axis=1)"
   ]
  },
  {
   "cell_type": "markdown",
   "id": "4ggR8MJlmqqZ",
   "metadata": {
    "id": "4ggR8MJlmqqZ"
   },
   "source": [
    "- We will add a new column 'company_age' by subtracting the yr_of_estab column by the current year. This will be useful for modelling."
   ]
  },
  {
   "cell_type": "code",
   "execution_count": 54,
   "id": "645bda40-804e-4aef-b3f5-adb4f4bb4ba7",
   "metadata": {
    "id": "645bda40-804e-4aef-b3f5-adb4f4bb4ba7"
   },
   "outputs": [],
   "source": [
    "# importing date class from datetime module\n",
    "from datetime import date\n",
    "\n",
    "# creating the date object of today's date\n",
    "todays_date = date.today()\n",
    "current_year= todays_date.year"
   ]
  },
  {
   "cell_type": "code",
   "execution_count": 55,
   "id": "08e4878f-9059-48a8-94b8-3d1b988f1890",
   "metadata": {
    "colab": {
     "base_uri": "https://localhost:8080/"
    },
    "id": "08e4878f-9059-48a8-94b8-3d1b988f1890",
    "outputId": "14d58fbb-75af-4222-f95d-42e5ce459b62"
   },
   "outputs": [
    {
     "data": {
      "text/plain": [
       "2025"
      ]
     },
     "execution_count": 55,
     "metadata": {},
     "output_type": "execute_result"
    }
   ],
   "source": [
    "current_year"
   ]
  },
  {
   "cell_type": "code",
   "execution_count": 56,
   "id": "25d8ca6c-6422-48bd-9c6b-6a916414794b",
   "metadata": {
    "id": "25d8ca6c-6422-48bd-9c6b-6a916414794b"
   },
   "outputs": [],
   "source": [
    "# Subtract current year with year of estab to get company's age\n",
    "\n",
    "data['company_age'] = current_year-data['yr_of_estab']"
   ]
  },
  {
   "cell_type": "markdown",
   "id": "fmuGMsIMm_EP",
   "metadata": {
    "id": "fmuGMsIMm_EP"
   },
   "source": [
    "- Drop the 'yr_of_estab' column."
   ]
  },
  {
   "cell_type": "code",
   "execution_count": 57,
   "id": "5bac11e7-63e4-4bd3-9a12-d581c195f518",
   "metadata": {
    "id": "5bac11e7-63e4-4bd3-9a12-d581c195f518"
   },
   "outputs": [],
   "source": [
    "data.drop('yr_of_estab', inplace=True, axis=1)"
   ]
  },
  {
   "cell_type": "markdown",
   "id": "mSRvJfWXnQI1",
   "metadata": {
    "id": "mSRvJfWXnQI1"
   },
   "source": [
    "- One-Hot Encode Nominal Categorical Columns"
   ]
  },
  {
   "cell_type": "code",
   "execution_count": 58,
   "id": "062c4db7-25c2-4710-98a7-8b668fe1ff97",
   "metadata": {
    "id": "062c4db7-25c2-4710-98a7-8b668fe1ff97"
   },
   "outputs": [],
   "source": [
    "columns_to_onehot = ['continent', 'region_of_employment', 'unit_of_wage']\n",
    "data = pd.get_dummies(data, columns=columns_to_onehot, drop_first=True)  # drop_first to avoid multicollinearity"
   ]
  },
  {
   "cell_type": "code",
   "execution_count": 59,
   "id": "fd838080-c541-47fc-b600-c48ac56ad8fe",
   "metadata": {
    "colab": {
     "base_uri": "https://localhost:8080/",
     "height": 243
    },
    "id": "fd838080-c541-47fc-b600-c48ac56ad8fe",
    "outputId": "45aa05f0-af75-4983-983c-7c57af24ef6c",
    "scrolled": true
   },
   "outputs": [
    {
     "data": {
      "text/html": [
       "<div>\n",
       "<style scoped>\n",
       "    .dataframe tbody tr th:only-of-type {\n",
       "        vertical-align: middle;\n",
       "    }\n",
       "\n",
       "    .dataframe tbody tr th {\n",
       "        vertical-align: top;\n",
       "    }\n",
       "\n",
       "    .dataframe thead th {\n",
       "        text-align: right;\n",
       "    }\n",
       "</style>\n",
       "<table border=\"1\" class=\"dataframe\">\n",
       "  <thead>\n",
       "    <tr style=\"text-align: right;\">\n",
       "      <th></th>\n",
       "      <th>education_of_employee</th>\n",
       "      <th>has_job_experience</th>\n",
       "      <th>no_of_employees</th>\n",
       "      <th>full_time_position</th>\n",
       "      <th>case_status</th>\n",
       "      <th>annual_wage</th>\n",
       "      <th>company_age</th>\n",
       "      <th>continent_Asia</th>\n",
       "      <th>continent_Europe</th>\n",
       "      <th>continent_North America</th>\n",
       "      <th>continent_Oceania</th>\n",
       "      <th>continent_South America</th>\n",
       "      <th>region_of_employment_Midwest</th>\n",
       "      <th>region_of_employment_Northeast</th>\n",
       "      <th>region_of_employment_South</th>\n",
       "      <th>region_of_employment_West</th>\n",
       "      <th>unit_of_wage_Month</th>\n",
       "      <th>unit_of_wage_Week</th>\n",
       "      <th>unit_of_wage_Year</th>\n",
       "    </tr>\n",
       "  </thead>\n",
       "  <tbody>\n",
       "    <tr>\n",
       "      <th>0</th>\n",
       "      <td>High School</td>\n",
       "      <td>N</td>\n",
       "      <td>14513</td>\n",
       "      <td>Y</td>\n",
       "      <td>Denied</td>\n",
       "      <td>1231782.032</td>\n",
       "      <td>18</td>\n",
       "      <td>True</td>\n",
       "      <td>False</td>\n",
       "      <td>False</td>\n",
       "      <td>False</td>\n",
       "      <td>False</td>\n",
       "      <td>False</td>\n",
       "      <td>False</td>\n",
       "      <td>False</td>\n",
       "      <td>True</td>\n",
       "      <td>False</td>\n",
       "      <td>False</td>\n",
       "      <td>False</td>\n",
       "    </tr>\n",
       "    <tr>\n",
       "      <th>1</th>\n",
       "      <td>Master's</td>\n",
       "      <td>Y</td>\n",
       "      <td>2412</td>\n",
       "      <td>Y</td>\n",
       "      <td>Certified</td>\n",
       "      <td>83425.650</td>\n",
       "      <td>23</td>\n",
       "      <td>True</td>\n",
       "      <td>False</td>\n",
       "      <td>False</td>\n",
       "      <td>False</td>\n",
       "      <td>False</td>\n",
       "      <td>False</td>\n",
       "      <td>True</td>\n",
       "      <td>False</td>\n",
       "      <td>False</td>\n",
       "      <td>False</td>\n",
       "      <td>False</td>\n",
       "      <td>True</td>\n",
       "    </tr>\n",
       "    <tr>\n",
       "      <th>2</th>\n",
       "      <td>Bachelor's</td>\n",
       "      <td>N</td>\n",
       "      <td>44444</td>\n",
       "      <td>Y</td>\n",
       "      <td>Denied</td>\n",
       "      <td>122996.860</td>\n",
       "      <td>17</td>\n",
       "      <td>True</td>\n",
       "      <td>False</td>\n",
       "      <td>False</td>\n",
       "      <td>False</td>\n",
       "      <td>False</td>\n",
       "      <td>False</td>\n",
       "      <td>False</td>\n",
       "      <td>False</td>\n",
       "      <td>True</td>\n",
       "      <td>False</td>\n",
       "      <td>False</td>\n",
       "      <td>True</td>\n",
       "    </tr>\n",
       "    <tr>\n",
       "      <th>3</th>\n",
       "      <td>Bachelor's</td>\n",
       "      <td>N</td>\n",
       "      <td>98</td>\n",
       "      <td>Y</td>\n",
       "      <td>Denied</td>\n",
       "      <td>83434.030</td>\n",
       "      <td>128</td>\n",
       "      <td>True</td>\n",
       "      <td>False</td>\n",
       "      <td>False</td>\n",
       "      <td>False</td>\n",
       "      <td>False</td>\n",
       "      <td>False</td>\n",
       "      <td>False</td>\n",
       "      <td>False</td>\n",
       "      <td>True</td>\n",
       "      <td>False</td>\n",
       "      <td>False</td>\n",
       "      <td>True</td>\n",
       "    </tr>\n",
       "    <tr>\n",
       "      <th>4</th>\n",
       "      <td>Master's</td>\n",
       "      <td>Y</td>\n",
       "      <td>1082</td>\n",
       "      <td>Y</td>\n",
       "      <td>Certified</td>\n",
       "      <td>149907.390</td>\n",
       "      <td>20</td>\n",
       "      <td>False</td>\n",
       "      <td>False</td>\n",
       "      <td>False</td>\n",
       "      <td>False</td>\n",
       "      <td>False</td>\n",
       "      <td>False</td>\n",
       "      <td>False</td>\n",
       "      <td>True</td>\n",
       "      <td>False</td>\n",
       "      <td>False</td>\n",
       "      <td>False</td>\n",
       "      <td>True</td>\n",
       "    </tr>\n",
       "  </tbody>\n",
       "</table>\n",
       "</div>"
      ],
      "text/plain": [
       "  education_of_employee has_job_experience  no_of_employees  \\\n",
       "0           High School                  N            14513   \n",
       "1              Master's                  Y             2412   \n",
       "2            Bachelor's                  N            44444   \n",
       "3            Bachelor's                  N               98   \n",
       "4              Master's                  Y             1082   \n",
       "\n",
       "  full_time_position case_status  annual_wage  company_age  continent_Asia  \\\n",
       "0                  Y      Denied  1231782.032           18            True   \n",
       "1                  Y   Certified    83425.650           23            True   \n",
       "2                  Y      Denied   122996.860           17            True   \n",
       "3                  Y      Denied    83434.030          128            True   \n",
       "4                  Y   Certified   149907.390           20           False   \n",
       "\n",
       "   continent_Europe  continent_North America  continent_Oceania  \\\n",
       "0             False                    False              False   \n",
       "1             False                    False              False   \n",
       "2             False                    False              False   \n",
       "3             False                    False              False   \n",
       "4             False                    False              False   \n",
       "\n",
       "   continent_South America  region_of_employment_Midwest  \\\n",
       "0                    False                         False   \n",
       "1                    False                         False   \n",
       "2                    False                         False   \n",
       "3                    False                         False   \n",
       "4                    False                         False   \n",
       "\n",
       "   region_of_employment_Northeast  region_of_employment_South  \\\n",
       "0                           False                       False   \n",
       "1                            True                       False   \n",
       "2                           False                       False   \n",
       "3                           False                       False   \n",
       "4                           False                        True   \n",
       "\n",
       "   region_of_employment_West  unit_of_wage_Month  unit_of_wage_Week  \\\n",
       "0                       True               False              False   \n",
       "1                      False               False              False   \n",
       "2                       True               False              False   \n",
       "3                       True               False              False   \n",
       "4                      False               False              False   \n",
       "\n",
       "   unit_of_wage_Year  \n",
       "0              False  \n",
       "1               True  \n",
       "2               True  \n",
       "3               True  \n",
       "4               True  "
      ]
     },
     "execution_count": 59,
     "metadata": {},
     "output_type": "execute_result"
    }
   ],
   "source": [
    "data.head()"
   ]
  },
  {
   "cell_type": "markdown",
   "id": "bUht3OPmnW8r",
   "metadata": {
    "id": "bUht3OPmnW8r"
   },
   "source": [
    "- Convert only the one-hot encoded columns to integers"
   ]
  },
  {
   "cell_type": "code",
   "execution_count": 60,
   "id": "ac068b61-6afb-4d7e-bcd4-3faaedbb8d3a",
   "metadata": {
    "id": "ac068b61-6afb-4d7e-bcd4-3faaedbb8d3a"
   },
   "outputs": [],
   "source": [
    "for col in data.columns:\n",
    "    if col.startswith(tuple(columns_to_onehot)): #check if the column startswith one of the original one hot encoded columns\n",
    "        data[col] = data[col].astype(int)\n"
   ]
  },
  {
   "cell_type": "code",
   "execution_count": 61,
   "id": "4bf96793-50e2-4342-840c-e4f82d2dd831",
   "metadata": {
    "colab": {
     "base_uri": "https://localhost:8080/",
     "height": 243
    },
    "id": "4bf96793-50e2-4342-840c-e4f82d2dd831",
    "outputId": "d92915d2-a8fd-4247-9550-4f2dfc818e01"
   },
   "outputs": [
    {
     "data": {
      "text/html": [
       "<div>\n",
       "<style scoped>\n",
       "    .dataframe tbody tr th:only-of-type {\n",
       "        vertical-align: middle;\n",
       "    }\n",
       "\n",
       "    .dataframe tbody tr th {\n",
       "        vertical-align: top;\n",
       "    }\n",
       "\n",
       "    .dataframe thead th {\n",
       "        text-align: right;\n",
       "    }\n",
       "</style>\n",
       "<table border=\"1\" class=\"dataframe\">\n",
       "  <thead>\n",
       "    <tr style=\"text-align: right;\">\n",
       "      <th></th>\n",
       "      <th>education_of_employee</th>\n",
       "      <th>has_job_experience</th>\n",
       "      <th>no_of_employees</th>\n",
       "      <th>full_time_position</th>\n",
       "      <th>case_status</th>\n",
       "      <th>annual_wage</th>\n",
       "      <th>company_age</th>\n",
       "      <th>continent_Asia</th>\n",
       "      <th>continent_Europe</th>\n",
       "      <th>continent_North America</th>\n",
       "      <th>continent_Oceania</th>\n",
       "      <th>continent_South America</th>\n",
       "      <th>region_of_employment_Midwest</th>\n",
       "      <th>region_of_employment_Northeast</th>\n",
       "      <th>region_of_employment_South</th>\n",
       "      <th>region_of_employment_West</th>\n",
       "      <th>unit_of_wage_Month</th>\n",
       "      <th>unit_of_wage_Week</th>\n",
       "      <th>unit_of_wage_Year</th>\n",
       "    </tr>\n",
       "  </thead>\n",
       "  <tbody>\n",
       "    <tr>\n",
       "      <th>0</th>\n",
       "      <td>High School</td>\n",
       "      <td>N</td>\n",
       "      <td>14513</td>\n",
       "      <td>Y</td>\n",
       "      <td>Denied</td>\n",
       "      <td>1231782.032</td>\n",
       "      <td>18</td>\n",
       "      <td>1</td>\n",
       "      <td>0</td>\n",
       "      <td>0</td>\n",
       "      <td>0</td>\n",
       "      <td>0</td>\n",
       "      <td>0</td>\n",
       "      <td>0</td>\n",
       "      <td>0</td>\n",
       "      <td>1</td>\n",
       "      <td>0</td>\n",
       "      <td>0</td>\n",
       "      <td>0</td>\n",
       "    </tr>\n",
       "    <tr>\n",
       "      <th>1</th>\n",
       "      <td>Master's</td>\n",
       "      <td>Y</td>\n",
       "      <td>2412</td>\n",
       "      <td>Y</td>\n",
       "      <td>Certified</td>\n",
       "      <td>83425.650</td>\n",
       "      <td>23</td>\n",
       "      <td>1</td>\n",
       "      <td>0</td>\n",
       "      <td>0</td>\n",
       "      <td>0</td>\n",
       "      <td>0</td>\n",
       "      <td>0</td>\n",
       "      <td>1</td>\n",
       "      <td>0</td>\n",
       "      <td>0</td>\n",
       "      <td>0</td>\n",
       "      <td>0</td>\n",
       "      <td>1</td>\n",
       "    </tr>\n",
       "    <tr>\n",
       "      <th>2</th>\n",
       "      <td>Bachelor's</td>\n",
       "      <td>N</td>\n",
       "      <td>44444</td>\n",
       "      <td>Y</td>\n",
       "      <td>Denied</td>\n",
       "      <td>122996.860</td>\n",
       "      <td>17</td>\n",
       "      <td>1</td>\n",
       "      <td>0</td>\n",
       "      <td>0</td>\n",
       "      <td>0</td>\n",
       "      <td>0</td>\n",
       "      <td>0</td>\n",
       "      <td>0</td>\n",
       "      <td>0</td>\n",
       "      <td>1</td>\n",
       "      <td>0</td>\n",
       "      <td>0</td>\n",
       "      <td>1</td>\n",
       "    </tr>\n",
       "    <tr>\n",
       "      <th>3</th>\n",
       "      <td>Bachelor's</td>\n",
       "      <td>N</td>\n",
       "      <td>98</td>\n",
       "      <td>Y</td>\n",
       "      <td>Denied</td>\n",
       "      <td>83434.030</td>\n",
       "      <td>128</td>\n",
       "      <td>1</td>\n",
       "      <td>0</td>\n",
       "      <td>0</td>\n",
       "      <td>0</td>\n",
       "      <td>0</td>\n",
       "      <td>0</td>\n",
       "      <td>0</td>\n",
       "      <td>0</td>\n",
       "      <td>1</td>\n",
       "      <td>0</td>\n",
       "      <td>0</td>\n",
       "      <td>1</td>\n",
       "    </tr>\n",
       "    <tr>\n",
       "      <th>4</th>\n",
       "      <td>Master's</td>\n",
       "      <td>Y</td>\n",
       "      <td>1082</td>\n",
       "      <td>Y</td>\n",
       "      <td>Certified</td>\n",
       "      <td>149907.390</td>\n",
       "      <td>20</td>\n",
       "      <td>0</td>\n",
       "      <td>0</td>\n",
       "      <td>0</td>\n",
       "      <td>0</td>\n",
       "      <td>0</td>\n",
       "      <td>0</td>\n",
       "      <td>0</td>\n",
       "      <td>1</td>\n",
       "      <td>0</td>\n",
       "      <td>0</td>\n",
       "      <td>0</td>\n",
       "      <td>1</td>\n",
       "    </tr>\n",
       "  </tbody>\n",
       "</table>\n",
       "</div>"
      ],
      "text/plain": [
       "  education_of_employee has_job_experience  no_of_employees  \\\n",
       "0           High School                  N            14513   \n",
       "1              Master's                  Y             2412   \n",
       "2            Bachelor's                  N            44444   \n",
       "3            Bachelor's                  N               98   \n",
       "4              Master's                  Y             1082   \n",
       "\n",
       "  full_time_position case_status  annual_wage  company_age  continent_Asia  \\\n",
       "0                  Y      Denied  1231782.032           18               1   \n",
       "1                  Y   Certified    83425.650           23               1   \n",
       "2                  Y      Denied   122996.860           17               1   \n",
       "3                  Y      Denied    83434.030          128               1   \n",
       "4                  Y   Certified   149907.390           20               0   \n",
       "\n",
       "   continent_Europe  continent_North America  continent_Oceania  \\\n",
       "0                 0                        0                  0   \n",
       "1                 0                        0                  0   \n",
       "2                 0                        0                  0   \n",
       "3                 0                        0                  0   \n",
       "4                 0                        0                  0   \n",
       "\n",
       "   continent_South America  region_of_employment_Midwest  \\\n",
       "0                        0                             0   \n",
       "1                        0                             0   \n",
       "2                        0                             0   \n",
       "3                        0                             0   \n",
       "4                        0                             0   \n",
       "\n",
       "   region_of_employment_Northeast  region_of_employment_South  \\\n",
       "0                               0                           0   \n",
       "1                               1                           0   \n",
       "2                               0                           0   \n",
       "3                               0                           0   \n",
       "4                               0                           1   \n",
       "\n",
       "   region_of_employment_West  unit_of_wage_Month  unit_of_wage_Week  \\\n",
       "0                          1                   0                  0   \n",
       "1                          0                   0                  0   \n",
       "2                          1                   0                  0   \n",
       "3                          1                   0                  0   \n",
       "4                          0                   0                  0   \n",
       "\n",
       "   unit_of_wage_Year  \n",
       "0                  0  \n",
       "1                  1  \n",
       "2                  1  \n",
       "3                  1  \n",
       "4                  1  "
      ]
     },
     "execution_count": 61,
     "metadata": {},
     "output_type": "execute_result"
    }
   ],
   "source": [
    "data.head()"
   ]
  },
  {
   "cell_type": "markdown",
   "id": "TYL13tGSnalq",
   "metadata": {
    "id": "TYL13tGSnalq"
   },
   "source": [
    "- Label Encode Binary Categorical Columns"
   ]
  },
  {
   "cell_type": "code",
   "execution_count": 62,
   "id": "4d001b8a-491c-4e32-aefa-893d177671b6",
   "metadata": {
    "id": "4d001b8a-491c-4e32-aefa-893d177671b6"
   },
   "outputs": [],
   "source": [
    "binary_columns = ['has_job_experience', 'full_time_position', 'case_status']\n",
    "for col in binary_columns:\n",
    "    data[col] = data[col].map({'Y': 1, 'N': 0, 'Certified': 1, 'Denied': 0}) # Map 'Y' to 1, 'N' to 0; Certified to 1, Denied to 0"
   ]
  },
  {
   "cell_type": "markdown",
   "id": "gYXWGJEfndjH",
   "metadata": {
    "id": "gYXWGJEfndjH"
   },
   "source": [
    "- Ordinal Encode 'education_of_employee'"
   ]
  },
  {
   "cell_type": "code",
   "execution_count": 63,
   "id": "774bcf85-e073-4360-bcee-61ee09ee1b76",
   "metadata": {
    "id": "774bcf85-e073-4360-bcee-61ee09ee1b76"
   },
   "outputs": [],
   "source": [
    "education_mapping = {\n",
    "    'High School': 1,\n",
    "    'Bachelor\\'s': 2,\n",
    "    'Master\\'s': 3,\n",
    "    'Doctorate': 4\n",
    "}\n",
    "data['education_of_employee'] = data['education_of_employee'].map(education_mapping)"
   ]
  },
  {
   "cell_type": "code",
   "execution_count": 64,
   "id": "aab41ed3-bc66-4d8b-8831-faeec679b224",
   "metadata": {
    "colab": {
     "base_uri": "https://localhost:8080/",
     "height": 243
    },
    "id": "aab41ed3-bc66-4d8b-8831-faeec679b224",
    "outputId": "6900951b-1c52-4a58-af14-548c201abfe7"
   },
   "outputs": [
    {
     "data": {
      "text/html": [
       "<div>\n",
       "<style scoped>\n",
       "    .dataframe tbody tr th:only-of-type {\n",
       "        vertical-align: middle;\n",
       "    }\n",
       "\n",
       "    .dataframe tbody tr th {\n",
       "        vertical-align: top;\n",
       "    }\n",
       "\n",
       "    .dataframe thead th {\n",
       "        text-align: right;\n",
       "    }\n",
       "</style>\n",
       "<table border=\"1\" class=\"dataframe\">\n",
       "  <thead>\n",
       "    <tr style=\"text-align: right;\">\n",
       "      <th></th>\n",
       "      <th>education_of_employee</th>\n",
       "      <th>has_job_experience</th>\n",
       "      <th>no_of_employees</th>\n",
       "      <th>full_time_position</th>\n",
       "      <th>case_status</th>\n",
       "      <th>annual_wage</th>\n",
       "      <th>company_age</th>\n",
       "      <th>continent_Asia</th>\n",
       "      <th>continent_Europe</th>\n",
       "      <th>continent_North America</th>\n",
       "      <th>continent_Oceania</th>\n",
       "      <th>continent_South America</th>\n",
       "      <th>region_of_employment_Midwest</th>\n",
       "      <th>region_of_employment_Northeast</th>\n",
       "      <th>region_of_employment_South</th>\n",
       "      <th>region_of_employment_West</th>\n",
       "      <th>unit_of_wage_Month</th>\n",
       "      <th>unit_of_wage_Week</th>\n",
       "      <th>unit_of_wage_Year</th>\n",
       "    </tr>\n",
       "  </thead>\n",
       "  <tbody>\n",
       "    <tr>\n",
       "      <th>0</th>\n",
       "      <td>1</td>\n",
       "      <td>0</td>\n",
       "      <td>14513</td>\n",
       "      <td>1</td>\n",
       "      <td>0</td>\n",
       "      <td>1231782.032</td>\n",
       "      <td>18</td>\n",
       "      <td>1</td>\n",
       "      <td>0</td>\n",
       "      <td>0</td>\n",
       "      <td>0</td>\n",
       "      <td>0</td>\n",
       "      <td>0</td>\n",
       "      <td>0</td>\n",
       "      <td>0</td>\n",
       "      <td>1</td>\n",
       "      <td>0</td>\n",
       "      <td>0</td>\n",
       "      <td>0</td>\n",
       "    </tr>\n",
       "    <tr>\n",
       "      <th>1</th>\n",
       "      <td>3</td>\n",
       "      <td>1</td>\n",
       "      <td>2412</td>\n",
       "      <td>1</td>\n",
       "      <td>1</td>\n",
       "      <td>83425.650</td>\n",
       "      <td>23</td>\n",
       "      <td>1</td>\n",
       "      <td>0</td>\n",
       "      <td>0</td>\n",
       "      <td>0</td>\n",
       "      <td>0</td>\n",
       "      <td>0</td>\n",
       "      <td>1</td>\n",
       "      <td>0</td>\n",
       "      <td>0</td>\n",
       "      <td>0</td>\n",
       "      <td>0</td>\n",
       "      <td>1</td>\n",
       "    </tr>\n",
       "    <tr>\n",
       "      <th>2</th>\n",
       "      <td>2</td>\n",
       "      <td>0</td>\n",
       "      <td>44444</td>\n",
       "      <td>1</td>\n",
       "      <td>0</td>\n",
       "      <td>122996.860</td>\n",
       "      <td>17</td>\n",
       "      <td>1</td>\n",
       "      <td>0</td>\n",
       "      <td>0</td>\n",
       "      <td>0</td>\n",
       "      <td>0</td>\n",
       "      <td>0</td>\n",
       "      <td>0</td>\n",
       "      <td>0</td>\n",
       "      <td>1</td>\n",
       "      <td>0</td>\n",
       "      <td>0</td>\n",
       "      <td>1</td>\n",
       "    </tr>\n",
       "    <tr>\n",
       "      <th>3</th>\n",
       "      <td>2</td>\n",
       "      <td>0</td>\n",
       "      <td>98</td>\n",
       "      <td>1</td>\n",
       "      <td>0</td>\n",
       "      <td>83434.030</td>\n",
       "      <td>128</td>\n",
       "      <td>1</td>\n",
       "      <td>0</td>\n",
       "      <td>0</td>\n",
       "      <td>0</td>\n",
       "      <td>0</td>\n",
       "      <td>0</td>\n",
       "      <td>0</td>\n",
       "      <td>0</td>\n",
       "      <td>1</td>\n",
       "      <td>0</td>\n",
       "      <td>0</td>\n",
       "      <td>1</td>\n",
       "    </tr>\n",
       "    <tr>\n",
       "      <th>4</th>\n",
       "      <td>3</td>\n",
       "      <td>1</td>\n",
       "      <td>1082</td>\n",
       "      <td>1</td>\n",
       "      <td>1</td>\n",
       "      <td>149907.390</td>\n",
       "      <td>20</td>\n",
       "      <td>0</td>\n",
       "      <td>0</td>\n",
       "      <td>0</td>\n",
       "      <td>0</td>\n",
       "      <td>0</td>\n",
       "      <td>0</td>\n",
       "      <td>0</td>\n",
       "      <td>1</td>\n",
       "      <td>0</td>\n",
       "      <td>0</td>\n",
       "      <td>0</td>\n",
       "      <td>1</td>\n",
       "    </tr>\n",
       "  </tbody>\n",
       "</table>\n",
       "</div>"
      ],
      "text/plain": [
       "   education_of_employee  has_job_experience  no_of_employees  \\\n",
       "0                      1                   0            14513   \n",
       "1                      3                   1             2412   \n",
       "2                      2                   0            44444   \n",
       "3                      2                   0               98   \n",
       "4                      3                   1             1082   \n",
       "\n",
       "   full_time_position  case_status  annual_wage  company_age  continent_Asia  \\\n",
       "0                   1            0  1231782.032           18               1   \n",
       "1                   1            1    83425.650           23               1   \n",
       "2                   1            0   122996.860           17               1   \n",
       "3                   1            0    83434.030          128               1   \n",
       "4                   1            1   149907.390           20               0   \n",
       "\n",
       "   continent_Europe  continent_North America  continent_Oceania  \\\n",
       "0                 0                        0                  0   \n",
       "1                 0                        0                  0   \n",
       "2                 0                        0                  0   \n",
       "3                 0                        0                  0   \n",
       "4                 0                        0                  0   \n",
       "\n",
       "   continent_South America  region_of_employment_Midwest  \\\n",
       "0                        0                             0   \n",
       "1                        0                             0   \n",
       "2                        0                             0   \n",
       "3                        0                             0   \n",
       "4                        0                             0   \n",
       "\n",
       "   region_of_employment_Northeast  region_of_employment_South  \\\n",
       "0                               0                           0   \n",
       "1                               1                           0   \n",
       "2                               0                           0   \n",
       "3                               0                           0   \n",
       "4                               0                           1   \n",
       "\n",
       "   region_of_employment_West  unit_of_wage_Month  unit_of_wage_Week  \\\n",
       "0                          1                   0                  0   \n",
       "1                          0                   0                  0   \n",
       "2                          1                   0                  0   \n",
       "3                          1                   0                  0   \n",
       "4                          0                   0                  0   \n",
       "\n",
       "   unit_of_wage_Year  \n",
       "0                  0  \n",
       "1                  1  \n",
       "2                  1  \n",
       "3                  1  \n",
       "4                  1  "
      ]
     },
     "execution_count": 64,
     "metadata": {},
     "output_type": "execute_result"
    }
   ],
   "source": [
    "data.head()"
   ]
  },
  {
   "cell_type": "markdown",
   "id": "0Y5_3bvZngtu",
   "metadata": {
    "id": "0Y5_3bvZngtu"
   },
   "source": [
    "## Data Preparation and Modelling"
   ]
  },
  {
   "cell_type": "markdown",
   "id": "yaU9F5_OnuNF",
   "metadata": {
    "id": "yaU9F5_OnuNF"
   },
   "source": [
    "Split the data in train, test and validation sets."
   ]
  },
  {
   "cell_type": "code",
   "execution_count": 65,
   "id": "13ada6cd-f229-47f0-bfe1-1966021e7d96",
   "metadata": {
    "colab": {
     "base_uri": "https://localhost:8080/"
    },
    "id": "13ada6cd-f229-47f0-bfe1-1966021e7d96",
    "outputId": "2cac6957-118a-41e4-c51e-38d9c5931074"
   },
   "outputs": [
    {
     "name": "stdout",
     "output_type": "stream",
     "text": [
      "(17836, 18) (3822, 18) (3822, 18)\n"
     ]
    }
   ],
   "source": [
    "# Separating the dependent and independent variables\n",
    "X = data.drop('case_status', axis=1)\n",
    "y = data['case_status']\n",
    "\n",
    "# 1. Split into train and temp (test + validation)\n",
    "X_train, X_temp, y_train, y_temp = train_test_split(\n",
    "    X, y,\n",
    "    test_size=0.3,                     # 30% of data for temp (test + validation)\n",
    "    stratify=y,                        # Stratify to maintain class balance\n",
    "    random_state=42                    # For reproducibility\n",
    ")\n",
    "\n",
    "# 2. Split temp into test and validation\n",
    "X_val, X_test, y_val, y_test = train_test_split(\n",
    "    X_temp,\n",
    "    y_temp,\n",
    "    test_size=0.5,                     # 50% of temp for test, 50% for validation\n",
    "    stratify=y_temp,                   # Stratify to maintain class balance\n",
    "    random_state=42\n",
    ")\n",
    "\n",
    "print(X_train.shape, X_val.shape, X_test.shape)"
   ]
  },
  {
   "cell_type": "markdown",
   "id": "i6EGymscyC2C",
   "metadata": {
    "id": "i6EGymscyC2C"
   },
   "source": [
    "Define a function to compute different metrics to check performance of a classification model built using sklearn"
   ]
  },
  {
   "cell_type": "code",
   "execution_count": 66,
   "id": "3d6a7049-3b40-4b76-a244-c998d82ccf1d",
   "metadata": {
    "id": "3d6a7049-3b40-4b76-a244-c998d82ccf1d"
   },
   "outputs": [],
   "source": [
    "def model_performance_classification(model, predictors, target):\n",
    "    \"\"\"\n",
    "    Function to compute different metrics to check classification model performance\n",
    "\n",
    "    model: classifier\n",
    "    predictors: independent variables\n",
    "    target: dependent variable\n",
    "    \"\"\"\n",
    "    # predicting using the independent variables\n",
    "    pred = model.predict(predictors)\n",
    "\n",
    "    acc = round(accuracy_score(target, pred), 3)  # to compute Accuracy\n",
    "    recall = round(recall_score(target, pred), 3)  # to compute Recall\n",
    "    precision = round(precision_score(target, pred), 3)  # to compute Precision\n",
    "    f1 = round(f1_score(target, pred), 3)  # to compute F1-score\n",
    "\n",
    "    # creating a dataframe of metrics\n",
    "    df_perf = pd.DataFrame(\n",
    "        {\"Accuracy\": acc, \"Recall\": recall, \"Precision\": precision, \"F1\": f1,},\n",
    "        index=[0],\n",
    "    )\n",
    "\n",
    "    return df_perf"
   ]
  },
  {
   "cell_type": "markdown",
   "id": "lFpStF8PyJEG",
   "metadata": {
    "id": "lFpStF8PyJEG"
   },
   "source": [
    "Define a function to plot confusion matrix"
   ]
  },
  {
   "cell_type": "code",
   "execution_count": 67,
   "id": "1a673a51-3313-472f-843c-bf40ab152ea3",
   "metadata": {
    "id": "1a673a51-3313-472f-843c-bf40ab152ea3"
   },
   "outputs": [],
   "source": [
    "def plot_confusion_matrix(model, predictors, target):\n",
    "    \"\"\"\n",
    "    To plot the confusion_matrix with peracentages\n",
    "\n",
    "    model: classifier\n",
    "    predictors: independent variables\n",
    "    target: dependent variable\n",
    "    \"\"\"\n",
    "    # Predict the target values using the provided model and predictors\n",
    "    y_pred = model.predict(predictors)\n",
    "\n",
    "    # Compute the confusion matrix comparing the true target values with the predicted values\n",
    "    cm = confusion_matrix(target, y_pred)\n",
    "\n",
    "    # Create labels for each cell in the confusion matrix with both count and percentage\n",
    "    labels = np.asarray(\n",
    "        [\n",
    "            [\"{0:0.0f}\".format(item) + \"\\n{0:.2%}\".format(item / cm.flatten().sum())]\n",
    "            for item in cm.flatten()\n",
    "        ]\n",
    "    ).reshape(2, 2)    # reshaping to a matrix\n",
    "\n",
    "    # Set the figure size for the plot\n",
    "    plt.figure(figsize=(6, 4))\n",
    "\n",
    "    # Plot the confusion matrix as a heatmap with the labels\n",
    "    sns.heatmap(cm, annot=labels, fmt=\"\")\n",
    "\n",
    "    # Add a label to the y-axis\n",
    "    plt.ylabel(\"True label\")\n",
    "\n",
    "    # Add a label to the x-axis\n",
    "    plt.xlabel(\"Predicted label\")"
   ]
  },
  {
   "cell_type": "markdown",
   "id": "eBWKt8ggy9By",
   "metadata": {
    "id": "eBWKt8ggy9By"
   },
   "source": [
    "Train a decision tree model on the original dataset without specifying any hyperparameters and check the importance of the features."
   ]
  },
  {
   "cell_type": "code",
   "execution_count": 68,
   "id": "b3f94316-82f6-43c5-ab48-00c0dde2320e",
   "metadata": {
    "colab": {
     "base_uri": "https://localhost:8080/"
    },
    "id": "b3f94316-82f6-43c5-ab48-00c0dde2320e",
    "outputId": "387cd063-3a6e-4b71-b8cb-a7c24f1c3f3f"
   },
   "outputs": [
    {
     "name": "stdout",
     "output_type": "stream",
     "text": [
      "                                Importance\n",
      "education_of_employee             0.110657\n",
      "has_job_experience                0.048165\n",
      "no_of_employees                   0.251140\n",
      "full_time_position                0.016377\n",
      "annual_wage                       0.260745\n",
      "company_age                       0.169152\n",
      "continent_Asia                    0.010127\n",
      "continent_Europe                  0.019386\n",
      "continent_North America           0.012552\n",
      "continent_Oceania                 0.004219\n",
      "continent_South America           0.005998\n",
      "region_of_employment_Midwest      0.015767\n",
      "region_of_employment_Northeast    0.013905\n",
      "region_of_employment_South        0.014843\n",
      "region_of_employment_West         0.011370\n",
      "unit_of_wage_Month                0.001767\n",
      "unit_of_wage_Week                 0.000641\n",
      "unit_of_wage_Year                 0.033188\n"
     ]
    }
   ],
   "source": [
    "dt1 = DecisionTreeClassifier(random_state=42)\n",
    "dt1.fit(X_train, y_train)\n",
    "\n",
    "feature_importance_df = pd.DataFrame(dt1.feature_importances_, index=X.columns, columns=['Importance'])\n",
    "print(feature_importance_df)"
   ]
  },
  {
   "cell_type": "markdown",
   "id": "31a5251c-1181-4b8c-921a-5fce4e4ef36a",
   "metadata": {},
   "source": [
    "- annual_wage (0.26) and no_of_employees (0.25) are the most influential in determining visa status or a related outcome.\n",
    "- education_of_employee (0.11) and company_age (0.17) also play crucial roles.\n",
    "- has_job_experience (0.048) and continent_Europe (0.019) have some effect but are less dominant."
   ]
  },
  {
   "cell_type": "markdown",
   "id": "Fm3K6TX2zSWM",
   "metadata": {
    "id": "Fm3K6TX2zSWM"
   },
   "source": [
    "Evaluate the decision tree model 1 on train and validation data."
   ]
  },
  {
   "cell_type": "code",
   "execution_count": 131,
   "id": "5b4094c0-1127-4aba-ba0b-8391579f58c8",
   "metadata": {
    "colab": {
     "base_uri": "https://localhost:8080/",
     "height": 544
    },
    "id": "5b4094c0-1127-4aba-ba0b-8391579f58c8",
    "outputId": "a922460d-3b08-44f9-8b60-e026b53e2631"
   },
   "outputs": [
    {
     "name": "stdout",
     "output_type": "stream",
     "text": [
      "Performance of the decision tree model 1 on training set:\n",
      "\n",
      "    Accuracy  Recall  Precision   F1\n",
      "0       1.0     1.0        1.0  1.0 \n",
      "\n",
      "Performance of the decision tree model 1 on validation set:\n",
      "\n",
      "    Accuracy  Recall  Precision     F1\n",
      "0     0.669   0.763      0.746  0.755\n"
     ]
    },
    {
     "data": {
      "image/png": "[encoded data removed]",
      "text/plain": [
       "<Figure size 432x288 with 2 Axes>"
      ]
     },
     "metadata": {
      "needs_background": "light"
     },
     "output_type": "display_data"
    }
   ],
   "source": [
    "# Calculate and display model performance on training and validation sets.\n",
    "dt1_train_perf = model_performance_classification(dt1, X_train, y_train)\n",
    "dt1_val_perf = model_performance_classification(dt1, X_val, y_val)\n",
    "\n",
    "# Display the performance metrics.\n",
    "print('Performance of the decision tree model 1 on training set:\\n\\n', dt1_train_perf, '\\n')\n",
    "print('Performance of the decision tree model 1 on validation set:\\n\\n', dt1_val_perf)\n",
    "\n",
    "# Plot confusion matrix for model evaluation.\n",
    "plot_confusion_matrix(dt1, X_val, y_val)"
   ]
  },
  {
   "cell_type": "markdown",
   "id": "6fcac513-ea63-4e56-b0de-88a3652345d4",
   "metadata": {},
   "source": [
    "- The model is overfitting as it is not performing well on the validation data."
   ]
  },
  {
   "cell_type": "markdown",
   "id": "g4jT6MLdzv5W",
   "metadata": {
    "id": "g4jT6MLdzv5W"
   },
   "source": [
    "Train the random forest model on the original dataset and check the performance on the train and validation data."
   ]
  },
  {
   "cell_type": "code",
   "execution_count": 117,
   "id": "2c96d885-18be-42f8-b9cb-1a4985323063",
   "metadata": {
    "colab": {
     "base_uri": "https://localhost:8080/",
     "height": 544
    },
    "id": "2c96d885-18be-42f8-b9cb-1a4985323063",
    "outputId": "81130234-f518-4480-9bbd-c17b7f32145e"
   },
   "outputs": [
    {
     "name": "stdout",
     "output_type": "stream",
     "text": [
      "Performance of the random forest model 1 on training set:\n",
      "\n",
      "    Accuracy  Recall  Precision   F1\n",
      "0       1.0     1.0        1.0  1.0 \n",
      "\n",
      "Performance of the random forest model 1 on validation set:\n",
      "\n",
      "    Accuracy  Recall  Precision     F1\n",
      "0     0.726   0.841       0.77  0.804\n"
     ]
    },
    {
     "data": {
      "image/png": "[encoded data removed]",
      "text/plain": [
       "<Figure size 432x288 with 2 Axes>"
      ]
     },
     "metadata": {
      "needs_background": "light"
     },
     "output_type": "display_data"
    }
   ],
   "source": [
    "# Train a Random Forest Classifier (rfc1) and evaluate its performance.\n",
    "rfc1 = RandomForestClassifier(random_state=42)\n",
    "rfc1.fit(X_train, y_train)\n",
    "\n",
    "# Calculate performance metrics for the training and validation sets.\n",
    "rfc1_train_perf = model_performance_classification(rfc1, X_train, y_train)\n",
    "rfc1_val_perf = model_performance_classification(rfc1, X_val, y_val)\n",
    "\n",
    "# Display the performance metrics.\n",
    "print('Performance of the random forest model 1 on training set:\\n\\n', rfc1_train_perf, '\\n')\n",
    "print('Performance of the random forest model 1 on validation set:\\n\\n', rfc1_val_perf)\n",
    "\n",
    "# Plot the confusion matrix for the validation set.\n",
    "plot_confusion_matrix(rfc1, X_val, y_val)"
   ]
  },
  {
   "cell_type": "markdown",
   "id": "eb42c720-5e14-49a5-84a9-14552c89748e",
   "metadata": {},
   "source": [
    "- The huge performance gap (100% training vs. 72.6% validation) suggests the model does not generalize well."
   ]
  },
  {
   "cell_type": "markdown",
   "id": "LztBzOny1BP6",
   "metadata": {
    "id": "LztBzOny1BP6"
   },
   "source": [
    "Train a Bagging classifier on the original dataset and evaluate the performance on train and validation data.**bold text**"
   ]
  },
  {
   "cell_type": "code",
   "execution_count": 71,
   "id": "b553d013-55dc-4e4d-8933-c022d1b27377",
   "metadata": {
    "colab": {
     "base_uri": "https://localhost:8080/",
     "height": 544
    },
    "id": "b553d013-55dc-4e4d-8933-c022d1b27377",
    "outputId": "2e39d01a-79c2-46d3-c641-d230728df200"
   },
   "outputs": [
    {
     "name": "stdout",
     "output_type": "stream",
     "text": [
      "Performance of the bagging classifier model 1 on training set:\n",
      "\n",
      "    Accuracy  Recall  Precision     F1\n",
      "0     0.984   0.985      0.992  0.988 \n",
      "\n",
      "Performance of the bagging classifier model 1 on validation set:\n",
      "\n",
      "    Accuracy  Recall  Precision     F1\n",
      "0     0.701    0.78      0.774  0.777\n"
     ]
    },
    {
     "data": {
      "image/png": "[encoded data removed]",
      "text/plain": [
       "<Figure size 432x288 with 2 Axes>"
      ]
     },
     "metadata": {
      "needs_background": "light"
     },
     "output_type": "display_data"
    }
   ],
   "source": [
    "# Train a Bagging Classifier (bagging1) and evaluate its performance.\n",
    "bagging1 = BaggingClassifier(random_state=42)\n",
    "bagging1.fit(X_train, y_train)\n",
    "\n",
    "# Calculate performance metrics for the training and validation sets.\n",
    "bagging1_train_perf = model_performance_classification(bagging1, X_train, y_train)\n",
    "bagging1_val_perf = model_performance_classification(bagging1, X_val, y_val)\n",
    "\n",
    "# Display the performance metrics.\n",
    "print('Performance of the bagging classifier model 1 on training set:\\n\\n', bagging1_train_perf, '\\n')\n",
    "print('Performance of the bagging classifier model 1 on validation set:\\n\\n', bagging1_val_perf)\n",
    "\n",
    "# Plot the confusion matrix for the validation set.\n",
    "plot_confusion_matrix(bagging1, X_val, y_val)"
   ]
  },
  {
   "cell_type": "markdown",
   "id": "927455c6-43ba-4a5e-aae5-91410fe48088",
   "metadata": {},
   "source": [
    "- The bagging classifier is also overfitting as it is not generalizing well."
   ]
  },
  {
   "cell_type": "markdown",
   "id": "KZEaaZct1l3K",
   "metadata": {
    "id": "KZEaaZct1l3K"
   },
   "source": [
    "Create oversampled data using SMOTE to balance the classes in the output variable."
   ]
  },
  {
   "cell_type": "code",
   "execution_count": 72,
   "id": "ee55b1dc-3e0e-4c0d-bc60-27f2aaafef8a",
   "metadata": {
    "colab": {
     "base_uri": "https://localhost:8080/"
    },
    "id": "ee55b1dc-3e0e-4c0d-bc60-27f2aaafef8a",
    "outputId": "f18324f7-2a50-4c31-fa92-462b81a097c3"
   },
   "outputs": [
    {
     "name": "stdout",
     "output_type": "stream",
     "text": [
      "Before Oversampling:\n",
      " case_status\n",
      "1    11913\n",
      "0     5923\n",
      "Name: count, dtype: int64\n",
      "\n",
      "After Oversampling:\n",
      " case_status\n",
      "0    11913\n",
      "1    11913\n",
      "Name: count, dtype: int64\n"
     ]
    }
   ],
   "source": [
    "# Initialize SMOTE\n",
    "smote = SMOTE(sampling_strategy='auto', random_state=42)\n",
    "\n",
    "# Apply SMOTE to training data\n",
    "X_train_over, y_train_over = smote.fit_resample(X_train, y_train)\n",
    "\n",
    "# Print class distribution before and after oversampling\n",
    "print(\"Before Oversampling:\\n\", y_train.value_counts())\n",
    "print(\"\\nAfter Oversampling:\\n\", pd.Series(y_train_over).value_counts())"
   ]
  },
  {
   "cell_type": "markdown",
   "id": "ovSmfikR2Fwj",
   "metadata": {
    "id": "ovSmfikR2Fwj"
   },
   "source": [
    "Train a decision tree model on the oversampled data and evaluate the performance on the train and validation data."
   ]
  },
  {
   "cell_type": "code",
   "execution_count": 129,
   "id": "1e87dd67-0383-4e73-9822-e1998a1e60c7",
   "metadata": {
    "colab": {
     "base_uri": "https://localhost:8080/"
    },
    "id": "1e87dd67-0383-4e73-9822-e1998a1e60c7",
    "outputId": "3a4cfb55-607e-4867-dda5-4545ec4e3000"
   },
   "outputs": [
    {
     "name": "stdout",
     "output_type": "stream",
     "text": [
      "Performance of the decision tree model 2 on training set:\n",
      "\n",
      "    Accuracy  Recall  Precision   F1\n",
      "0       1.0     1.0        1.0  1.0 \n",
      "\n",
      "Performance of the decision tree model 2 on validation set:\n",
      "\n",
      "    Accuracy  Recall  Precision     F1\n",
      "0     0.662   0.744      0.748  0.746\n"
     ]
    }
   ],
   "source": [
    "# Train a Decision Tree Classifier (dt2) on oversampled data and evaluate performance.\n",
    "dt2 = DecisionTreeClassifier(random_state=42)\n",
    "dt2.fit(X_train_over, y_train_over)\n",
    "\n",
    "# Calculate performance metrics on oversampled training data and original validation data.\n",
    "dt2_train_perf = model_performance_classification(dt2, X_train_over, y_train_over)\n",
    "dt2_val_perf = model_performance_classification(dt2, X_val, y_val)\n",
    "\n",
    "# Display performance metrics for training and validation sets.\n",
    "print('Performance of the decision tree model 2 on training set:\\n\\n', dt2_train_perf, '\\n')\n",
    "print('Performance of the decision tree model 2 on validation set:\\n\\n', dt2_val_perf)"
   ]
  },
  {
   "cell_type": "markdown",
   "id": "4d0990d6-b2a9-477a-b451-c7e143bcec28",
   "metadata": {},
   "source": [
    "Train a random forest classifier on the oversampled data and evaluate the performance on the train and validation data."
   ]
  },
  {
   "cell_type": "code",
   "execution_count": 122,
   "id": "47280cdb-93f2-4f96-8066-ed08e471b81d",
   "metadata": {
    "colab": {
     "base_uri": "https://localhost:8080/"
    },
    "id": "47280cdb-93f2-4f96-8066-ed08e471b81d",
    "outputId": "489422d5-4d7d-4d7e-ed51-079e43b19978"
   },
   "outputs": [
    {
     "name": "stdout",
     "output_type": "stream",
     "text": [
      "Performance of the random forest model 2 on training set:\n",
      "\n",
      "    Accuracy  Recall  Precision   F1\n",
      "0       1.0     1.0        1.0  1.0 \n",
      "\n",
      "Performance of the random forest model 2 on validation set:\n",
      "\n",
      "    Accuracy  Recall  Precision     F1\n",
      "0     0.717   0.808      0.777  0.792\n"
     ]
    }
   ],
   "source": [
    "# Train a Random Forest Classifier (rfc2) on oversampled data and evaluate performance.\n",
    "rfc2 = RandomForestClassifier(random_state=42)\n",
    "rfc2.fit(X_train_over, y_train_over)\n",
    "\n",
    "# Calculate performance metrics on oversampled training data and original validation data.\n",
    "rfc2_train_perf = model_performance_classification(rfc2, X_train_over, y_train_over)\n",
    "rfc2_val_perf = model_performance_classification(rfc2, X_val, y_val)\n",
    "\n",
    "# Display performance metrics for training and validation sets.\n",
    "print('Performance of the random forest model 2 on training set:\\n\\n', rfc2_train_perf, '\\n')\n",
    "print('Performance of the random forest model 2 on validation set:\\n\\n', rfc2_val_perf)"
   ]
  },
  {
   "cell_type": "markdown",
   "id": "X4p4R6wu4f6m",
   "metadata": {
    "id": "X4p4R6wu4f6m"
   },
   "source": [
    "Train a bagging classifier model on the oversampled data and evaluate the performance on the train and validation data."
   ]
  },
  {
   "cell_type": "code",
   "execution_count": 128,
   "id": "a1922e94-7f1b-49c2-a76d-5bef92e08ce0",
   "metadata": {
    "colab": {
     "base_uri": "https://localhost:8080/"
    },
    "id": "a1922e94-7f1b-49c2-a76d-5bef92e08ce0",
    "outputId": "d406a72b-7d88-472f-f98b-c55388ca2ca7"
   },
   "outputs": [
    {
     "name": "stdout",
     "output_type": "stream",
     "text": [
      "Performance of the bagging classifier model 2 on training set:\n",
      "\n",
      "    Accuracy  Recall  Precision     F1\n",
      "0     0.985   0.978      0.992  0.985 \n",
      "\n",
      "Performance of the bagging classifier model 2 on validation set:\n",
      "\n",
      "    Accuracy  Recall  Precision     F1\n",
      "0     0.688   0.756      0.772  0.764\n"
     ]
    }
   ],
   "source": [
    "# Train a Bagging Classifier (bagging2) on oversampled data and evaluate performance.\n",
    "bagging2 = BaggingClassifier(random_state=42)\n",
    "bagging2.fit(X_train_over, y_train_over)\n",
    "\n",
    "# Calculate performance metrics on oversampled training data and original validation data.\n",
    "bagging2_train_perf = model_performance_classification(bagging2, X_train_over, y_train_over)\n",
    "bagging2_val_perf = model_performance_classification(bagging2, X_val, y_val)\n",
    "\n",
    "# Display performance metrics for training and validation sets.\n",
    "print('Performance of the bagging classifier model 2 on training set:\\n\\n', bagging2_train_perf, '\\n')\n",
    "print('Performance of the bagging classifier model 2 on validation set:\\n\\n', bagging2_val_perf)"
   ]
  },
  {
   "cell_type": "markdown",
   "id": "e50bf411-e900-41c5-b60c-f21cdbc5ad99",
   "metadata": {
    "id": "50bf9285-f9d8-4c84-900d-a72e197272f3"
   },
   "source": [
    "- All the three models have overfit when trained on the oversampled data as well"
   ]
  },
  {
   "cell_type": "markdown",
   "id": "3IHoRfPo4-XW",
   "metadata": {
    "id": "3IHoRfPo4-XW"
   },
   "source": [
    "Create an undersampled data using RandomUnderSampler to balance the classes in the output variable."
   ]
  },
  {
   "cell_type": "code",
   "execution_count": 76,
   "id": "7e77a746-d12c-4b86-93d2-820a8a21b6c2",
   "metadata": {
    "colab": {
     "base_uri": "https://localhost:8080/"
    },
    "id": "7e77a746-d12c-4b86-93d2-820a8a21b6c2",
    "outputId": "5a69810e-9ec0-4b31-b956-845d22af01ad"
   },
   "outputs": [
    {
     "name": "stdout",
     "output_type": "stream",
     "text": [
      "Before Undersampling:\n",
      " case_status\n",
      "1    11913\n",
      "0     5923\n",
      "Name: count, dtype: int64\n",
      "\n",
      "After Undersampling:\n",
      " case_status\n",
      "0    5923\n",
      "1    5923\n",
      "Name: count, dtype: int64\n"
     ]
    }
   ],
   "source": [
    "# Define the undersampler\n",
    "undersampler = RandomUnderSampler(sampling_strategy=1, random_state=42)\n",
    "\n",
    "# Apply undersampling\n",
    "X_train_under, y_train_under = undersampler.fit_resample(X_train, y_train)\n",
    "\n",
    "# Print class distribution before and after oversampling\n",
    "print(\"Before Undersampling:\\n\", y_train.value_counts())\n",
    "print(\"\\nAfter Undersampling:\\n\", pd.Series(y_train_under).value_counts())"
   ]
  },
  {
   "cell_type": "markdown",
   "id": "HRSIpqv15VBC",
   "metadata": {
    "id": "HRSIpqv15VBC"
   },
   "source": [
    "Train a decision tree model on the undersampled data and evaluate the performance on the train and validation data."
   ]
  },
  {
   "cell_type": "code",
   "execution_count": 125,
   "id": "aafdabb3-52d0-4382-ba31-5c897138879c",
   "metadata": {
    "colab": {
     "base_uri": "https://localhost:8080/"
    },
    "id": "aafdabb3-52d0-4382-ba31-5c897138879c",
    "outputId": "9ad7276a-af99-48eb-a534-234ab3cb110e"
   },
   "outputs": [
    {
     "name": "stdout",
     "output_type": "stream",
     "text": [
      "Performance of the decision tree model 3 on training set:\n",
      "\n",
      "    Accuracy  Recall  Precision   F1\n",
      "0       1.0     1.0        1.0  1.0 \n",
      "\n",
      "Performance of the decision tree model 3 on validation set:\n",
      "\n",
      "    Accuracy  Recall  Precision     F1\n",
      "0     0.626   0.636      0.765  0.694\n"
     ]
    }
   ],
   "source": [
    "# Train a Decision Tree Classifier (dt3) on undersampled data and evaluate performance.\n",
    "dt3 = DecisionTreeClassifier(random_state=42)\n",
    "dt3.fit(X_train_under, y_train_under)\n",
    "\n",
    "# Calculate performance metrics on undersampled training data and original validation data.\n",
    "dt3_train_perf = model_performance_classification(dt3, X_train_under, y_train_under)\n",
    "dt3_val_perf = model_performance_classification(dt3, X_val, y_val)\n",
    "\n",
    "# Display performance metrics for training and validation sets.\n",
    "print('Performance of the decision tree model 3 on training set:\\n\\n', dt3_train_perf, '\\n')\n",
    "print('Performance of the decision tree model 3 on validation set:\\n\\n', dt3_val_perf)"
   ]
  },
  {
   "cell_type": "markdown",
   "id": "acXMv6cM5UK3",
   "metadata": {
    "id": "acXMv6cM5UK3"
   },
   "source": [
    "Train a random forest classifier model on the undersampled data and evaluate the performance on the train and validation data."
   ]
  },
  {
   "cell_type": "code",
   "execution_count": 126,
   "id": "0ac3093b-2bd6-46fb-8ff9-7b1fc40cb56b",
   "metadata": {
    "colab": {
     "base_uri": "https://localhost:8080/"
    },
    "id": "0ac3093b-2bd6-46fb-8ff9-7b1fc40cb56b",
    "outputId": "81892843-4e13-49ca-e73f-dbca42de2968"
   },
   "outputs": [
    {
     "name": "stdout",
     "output_type": "stream",
     "text": [
      "Performance of the random forest model 3 on training set:\n",
      "\n",
      "    Accuracy  Recall  Precision   F1\n",
      "0       1.0     1.0        1.0  1.0 \n",
      "\n",
      "Performance of the random forest model 3 on validation set:\n",
      "\n",
      "    Accuracy  Recall  Precision     F1\n",
      "0     0.679   0.678       0.81  0.739\n"
     ]
    }
   ],
   "source": [
    "# Train a Random Forest Classifier (rfc3) on undersampled data and evaluate performance.\n",
    "rfc3 = RandomForestClassifier(random_state=42)\n",
    "rfc3.fit(X_train_under, y_train_under)\n",
    "\n",
    "# Calculate performance metrics on undersampled training data and original validation data.\n",
    "rfc3_train_perf = model_performance_classification(rfc3, X_train_under, y_train_under)\n",
    "rfc3_val_perf = model_performance_classification(rfc3, X_val, y_val)\n",
    "\n",
    "# Display performance metrics for training and validation sets.\n",
    "print('Performance of the random forest model 3 on training set:\\n\\n', rfc3_train_perf, '\\n')\n",
    "print('Performance of the random forest model 3 on validation set:\\n\\n', rfc3_val_perf)"
   ]
  },
  {
   "cell_type": "markdown",
   "id": "AZIL-KFY5lwc",
   "metadata": {
    "id": "AZIL-KFY5lwc"
   },
   "source": [
    "Train a bagging classifier model on the undersampled data and evaluate the performance on the train and validation data.\n",
    "\n",
    "\n"
   ]
  },
  {
   "cell_type": "code",
   "execution_count": 127,
   "id": "c2334a7b-cdd4-4e04-a06b-d8d700e3a2c4",
   "metadata": {
    "colab": {
     "base_uri": "https://localhost:8080/"
    },
    "id": "c2334a7b-cdd4-4e04-a06b-d8d700e3a2c4",
    "outputId": "834ef137-d481-4c2b-be11-b5fa3a6544ce"
   },
   "outputs": [
    {
     "name": "stdout",
     "output_type": "stream",
     "text": [
      "Performance of the bagging classifier model 3 on training set:\n",
      "\n",
      "    Accuracy  Recall  Precision     F1\n",
      "0     0.978   0.967      0.989  0.978 \n",
      "\n",
      "Performance of the bagging classifier model 3 on validation set:\n",
      "\n",
      "    Accuracy  Recall  Precision     F1\n",
      "0     0.644   0.618      0.804  0.699\n"
     ]
    }
   ],
   "source": [
    "# Train a Bagging Classifier (bagging3) on undersampled data and evaluate performance.\n",
    "bagging3 = BaggingClassifier(random_state=42)\n",
    "bagging3.fit(X_train_under, y_train_under)\n",
    "\n",
    "# Calculate performance metrics on undersampled training data and original validation data.\n",
    "bagging3_train_perf = model_performance_classification(bagging3, X_train_under, y_train_under)\n",
    "bagging3_val_perf = model_performance_classification(bagging3, X_val, y_val)\n",
    "\n",
    "# Display performance metrics for training and validation sets.\n",
    "print('Performance of the bagging classifier model 3 on training set:\\n\\n', bagging3_train_perf, '\\n')\n",
    "print('Performance of the bagging classifier model 3 on validation set:\\n\\n', bagging3_val_perf)"
   ]
  },
  {
   "cell_type": "markdown",
   "id": "9adc4f03-e43c-491a-972f-c6791c2fb542",
   "metadata": {
    "id": "9adc4f03-e43c-491a-972f-c6791c2fb542"
   },
   "source": [
    "- The decision tree classifier from the original and oversampled data has performed well.\n",
    "- The random forest models from the original dataset and the oversampled dataset have performed equally well on Accuracy(~72%) and F1 score(80%).\n",
    "- The Bagging classifiers from the original dataset and oversampled has performed equally on F1 score.\n",
    "- We will be using the oversampled dataset for further improving our models."
   ]
  },
  {
   "cell_type": "markdown",
   "id": "QufZHmn46FV7",
   "metadata": {
    "id": "QufZHmn46FV7"
   },
   "source": [
    "## Hyperparameter tuning"
   ]
  },
  {
   "cell_type": "markdown",
   "id": "ocModLwY6R2X",
   "metadata": {
    "id": "ocModLwY6R2X"
   },
   "source": [
    "#### Tuning the decision tree model with Grid Search CV and fitting it on the oversampled data."
   ]
  },
  {
   "cell_type": "code",
   "execution_count": 80,
   "id": "e478c1cf-6f0b-4cfa-9711-b0ac8608ab35",
   "metadata": {
    "colab": {
     "base_uri": "https://localhost:8080/"
    },
    "id": "e478c1cf-6f0b-4cfa-9711-b0ac8608ab35",
    "outputId": "5ea597ee-9eab-4df0-fa05-297c0299009e"
   },
   "outputs": [
    {
     "name": "stdout",
     "output_type": "stream",
     "text": [
      "Fitting 5 folds for each of 840 candidates, totalling 4200 fits\n",
      "Best Parameters: {'max_depth': 7, 'max_features': None, 'min_samples_leaf': 4, 'min_samples_split': 12}\n",
      "Best Recall Score: 0.8310265161885212\n"
     ]
    }
   ],
   "source": [
    "dt_tuned1 = DecisionTreeClassifier(random_state=42)\n",
    "\n",
    "param_grid = {\n",
    "    'max_depth': [5, 6, 7, 8, 10, 12, None],          # Tree depth\n",
    "    'max_features': [None, 'sqrt', 'log2', 0.5],\n",
    "    'min_samples_split': [7, 10, 11, 12, 13],        # Min samples to split a node\n",
    "    'min_samples_leaf': [4, 5, 6, 7, 8, 10],          # Min samples per leaf node\n",
    "}\n",
    "\n",
    "# Set up Grid Search with Recall as the scoring metric\n",
    "grid_search = GridSearchCV(\n",
    "    estimator=dt_tuned1,\n",
    "    param_grid=param_grid,\n",
    "    scoring='recall',  # Optimize for recall\n",
    "    cv=5,              # 5-fold cross-validation\n",
    "    n_jobs=-1,         # Use all available CPU cores\n",
    "    verbose=2          # Show number of fits\n",
    ")\n",
    "\n",
    "# Fit the grid search on training data\n",
    "grid_search.fit(X_train_over, y_train_over)\n",
    "\n",
    "# Print the best parameters and best recall score\n",
    "print(\"Best Parameters:\", grid_search.best_params_)\n",
    "print(\"Best Recall Score:\", grid_search.best_score_)\n",
    "\n",
    "# Get the best model\n",
    "dt_tuned_grid = grid_search.best_estimator_"
   ]
  },
  {
   "cell_type": "code",
   "execution_count": 81,
   "id": "dd79cf73-5638-4c7e-a364-23936cf6c911",
   "metadata": {
    "colab": {
     "base_uri": "https://localhost:8080/"
    },
    "id": "dd79cf73-5638-4c7e-a364-23936cf6c911",
    "outputId": "8137a243-fcfc-4b2c-f37f-56b7a826415a"
   },
   "outputs": [
    {
     "name": "stdout",
     "output_type": "stream",
     "text": [
      "Performance of the tuned decision tree model on training set:\n",
      "\n",
      "    Accuracy  Recall  Precision     F1\n",
      "0     0.794   0.838      0.771  0.803 \n",
      "\n",
      "Performance of the tuned decision tree model on validation set:\n",
      "\n",
      "    Accuracy  Recall  Precision     F1\n",
      "0     0.734    0.83      0.784  0.806\n"
     ]
    }
   ],
   "source": [
    "print('Performance of the tuned decision tree model on training set:\\n\\n', model_performance_classification(dt_tuned_grid, X_train_over, y_train_over), '\\n')\n",
    "\n",
    "print('Performance of the tuned decision tree model on validation set:\\n\\n', model_performance_classification(dt_tuned_grid, X_val, y_val))\n"
   ]
  },
  {
   "cell_type": "markdown",
   "id": "00547a78-58b8-4a5a-af70-97ad5fe5a2e1",
   "metadata": {},
   "source": [
    "- Thought the accuracy of the tuned model decreases for validation data when compared to the training data, the model has good recall and precision scores."
   ]
  },
  {
   "cell_type": "markdown",
   "id": "rya4_OtF6fHz",
   "metadata": {
    "id": "rya4_OtF6fHz"
   },
   "source": [
    "#### Tuning the decision tree model with Random Search CV and fitting it on the oversampled data."
   ]
  },
  {
   "cell_type": "code",
   "execution_count": 82,
   "id": "e2de3f38-1abb-4be6-b6e5-32aa698b1b40",
   "metadata": {
    "colab": {
     "base_uri": "https://localhost:8080/"
    },
    "id": "e2de3f38-1abb-4be6-b6e5-32aa698b1b40",
    "outputId": "c81dceea-f1ae-43ad-f33e-c7932647fb42"
   },
   "outputs": [
    {
     "name": "stdout",
     "output_type": "stream",
     "text": [
      "Fitting 5 folds for each of 20 candidates, totalling 100 fits\n",
      "Best Parameters: {'min_samples_split': np.int64(5), 'min_samples_leaf': np.int64(17), 'max_features': None, 'max_depth': np.int64(7)}\n",
      "Best Recall Score: 0.8309433282842751\n"
     ]
    }
   ],
   "source": [
    "dt_tuned2 = DecisionTreeClassifier(random_state=42)\n",
    "\n",
    "# Define the hyperparameter search space\n",
    "param_grid = {\n",
    "    'max_depth': np.arange(3, 20, 2),          # Tree depth\n",
    "    'max_features': [None, 'sqrt', 'log2', 0.5],     # Feature selection\n",
    "    'min_samples_split': np.arange(5, 25, 2),        # Min samples to split a node\n",
    "    'min_samples_leaf': np.arange(5, 25, 2),         # Min samples per leaf node\n",
    "}\n",
    "\n",
    "# Set up Randomized Search with Recall as the scoring metric\n",
    "random_search = RandomizedSearchCV(\n",
    "    estimator=dt_tuned2,               # Decision Tree model\n",
    "    param_distributions=param_grid,  # Hyperparameter distribution\n",
    "    n_iter=20,                   # Number of random combinations to try\n",
    "    scoring='recall',             # Optimize for recall\n",
    "    cv=5,                         # 5-fold cross-validation\n",
    "    n_jobs=-1,                    # Use all available CPU cores\n",
    "    verbose=2,                     # Show number of fits\n",
    "    random_state=42               # For reproducibility\n",
    ")\n",
    "\n",
    "# Fit the random search on training data\n",
    "random_search.fit(X_train_over, y_train_over)\n",
    "\n",
    "# Print the best parameters and best recall score\n",
    "print(\"Best Parameters:\", random_search.best_params_)\n",
    "print(\"Best Recall Score:\", random_search.best_score_)\n",
    "\n",
    "# Get the best model\n",
    "dt_tuned_random = random_search.best_estimator_"
   ]
  },
  {
   "cell_type": "code",
   "execution_count": 83,
   "id": "556a3724-14e6-43eb-95f6-ba39a938d30f",
   "metadata": {
    "colab": {
     "base_uri": "https://localhost:8080/"
    },
    "id": "556a3724-14e6-43eb-95f6-ba39a938d30f",
    "outputId": "26b6f711-0ea2-4acb-ad13-82c2ee81a11c"
   },
   "outputs": [
    {
     "name": "stdout",
     "output_type": "stream",
     "text": [
      "Performance of the tuned decision tree model on training set:\n",
      "\n",
      "    Accuracy  Recall  Precision     F1\n",
      "0     0.793   0.836       0.77  0.801 \n",
      "\n",
      "Performance of the tuned decision tree model on validation set:\n",
      "\n",
      "    Accuracy  Recall  Precision     F1\n",
      "0     0.731   0.828      0.782  0.804\n"
     ]
    }
   ],
   "source": [
    "print('Performance of the tuned decision tree model on training set:\\n\\n', model_performance_classification(dt_tuned_random, X_train_over, y_train_over), '\\n')\n",
    "\n",
    "print('Performance of the tuned decision tree model on validation set:\\n\\n', model_performance_classification(dt_tuned_random, X_val, y_val))"
   ]
  },
  {
   "cell_type": "markdown",
   "id": "2f07eb82-4d9a-4820-b86f-8ff9a1c0e8bd",
   "metadata": {
    "id": "9153a26c-c853-474f-bad5-3765a9e19341"
   },
   "source": [
    "- The model tuned with random search cv is as good as the model tuned with grid search cv and is performing well for both accuracy and F1."
   ]
  },
  {
   "cell_type": "markdown",
   "id": "e17ec048-6bb0-405b-bf8d-af43f987edd9",
   "metadata": {},
   "source": [
    "- Since Grid Search takes long hours to train, we will only be using Random Search CV to train some models."
   ]
  },
  {
   "cell_type": "markdown",
   "id": "oJc25XbeBeGs",
   "metadata": {
    "id": "oJc25XbeBeGs"
   },
   "source": [
    "#### Tuning the random forest classifier model with Random Search CV and fitting it on the oversampled data."
   ]
  },
  {
   "cell_type": "code",
   "execution_count": 84,
   "id": "4d325d4f-8086-4680-bea2-696ccc946c00",
   "metadata": {
    "colab": {
     "base_uri": "https://localhost:8080/"
    },
    "id": "4d325d4f-8086-4680-bea2-696ccc946c00",
    "outputId": "1fcbc280-d975-469f-e3b2-16b2da606a23"
   },
   "outputs": [
    {
     "name": "stdout",
     "output_type": "stream",
     "text": [
      "Fitting 5 folds for each of 30 candidates, totalling 150 fits\n",
      "Best Parameters: {'n_estimators': 300, 'min_samples_leaf': np.int64(5), 'min_impurity_decrease': 0.001, 'max_samples': np.float64(0.3), 'max_features': np.float64(0.4000000000000001), 'max_depth': np.int64(13), 'class_weight': 'balanced_subsample'}\n",
      "Best Recall Score: 0.8252343689716517\n"
     ]
    }
   ],
   "source": [
    "rfc_tuned2 =  RandomForestClassifier(random_state=42)\n",
    "\n",
    "# Define the hyperparameter search space\n",
    "param_grid = {\"n_estimators\": [200,250, 300],\n",
    "    \"min_samples_leaf\": np.arange(5, 10),\n",
    "    \"max_features\": np.arange(0.2, 0.7, 0.1),\n",
    "    \"max_samples\": np.arange(0.3, 0.7, 0.1),\n",
    "    \"max_depth\":np.arange(3,14,2),\n",
    "    \"class_weight\" : ['balanced', 'balanced_subsample'],\n",
    "    \"min_impurity_decrease\":[0.001, 0.002, 0.003]\n",
    "}\n",
    "\n",
    "# Set up Randomized Search with Recall as the scoring metric\n",
    "random_search = RandomizedSearchCV(\n",
    "    estimator=rfc_tuned2,               # Decision Tree model\n",
    "    param_distributions=param_grid,  # Hyperparameter distribution\n",
    "    n_iter=30,                   # Number of random combinations to try\n",
    "    scoring='recall',             # Optimize for recall\n",
    "    cv=5,                         # 5-fold cross-validation\n",
    "    n_jobs=-1,                    # Use all available CPU cores\n",
    "    verbose=2,                     # Show number of fits\n",
    ")\n",
    "\n",
    "# Fit the random search on training data\n",
    "random_search.fit(X_train_over, y_train_over)\n",
    "\n",
    "# Print the best parameters and best recall score\n",
    "print(\"Best Parameters:\", random_search.best_params_)\n",
    "print(\"Best Recall Score:\", random_search.best_score_)\n",
    "\n",
    "# Get the best model\n",
    "rfc_tuned_random = random_search.best_estimator_"
   ]
  },
  {
   "cell_type": "code",
   "execution_count": 85,
   "id": "9ed84a50-39a0-415c-afc9-77f32eba5629",
   "metadata": {
    "colab": {
     "base_uri": "https://localhost:8080/"
    },
    "id": "9ed84a50-39a0-415c-afc9-77f32eba5629",
    "outputId": "4cc7d280-5025-48a7-91be-05970bd3d5a8"
   },
   "outputs": [
    {
     "name": "stdout",
     "output_type": "stream",
     "text": [
      "Performance of the tuned random forest classifier model on training set:\n",
      "\n",
      "    Accuracy  Recall  Precision     F1\n",
      "0     0.786   0.814       0.77  0.791 \n",
      "\n",
      "Performance of the tuned random forest classifier model on validation set:\n",
      "\n",
      "    Accuracy  Recall  Precision     F1\n",
      "0     0.728   0.811      0.788  0.799\n"
     ]
    }
   ],
   "source": [
    "print('Performance of the tuned random forest classifier model on training set:\\n\\n', model_performance_classification(rfc_tuned_random, X_train_over, y_train_over), '\\n')\n",
    "\n",
    "print('Performance of the tuned random forest classifier model on validation set:\\n\\n', model_performance_classification(rfc_tuned_random, X_val, y_val))"
   ]
  },
  {
   "cell_type": "markdown",
   "id": "bdb5f205-1526-4113-b5c4-ce28c5269909",
   "metadata": {},
   "source": [
    "- The tuned random forest model is not overfitting on the validation set. It's accuracy is decent and the F1 score is as good as that on the training  data."
   ]
  },
  {
   "cell_type": "markdown",
   "id": "IIRe94uFCEd2",
   "metadata": {
    "id": "IIRe94uFCEd2"
   },
   "source": [
    "#### Tuning the bagging classifier model with Grid Search CV and fitting it on the oversampled data."
   ]
  },
  {
   "cell_type": "code",
   "execution_count": 86,
   "id": "1c8ccb0f-f973-4668-8390-582cbb338dd2",
   "metadata": {
    "colab": {
     "base_uri": "https://localhost:8080/"
    },
    "id": "1c8ccb0f-f973-4668-8390-582cbb338dd2",
    "outputId": "fabe51b4-810f-4cbd-c0a4-dbb9517f71ac"
   },
   "outputs": [
    {
     "name": "stdout",
     "output_type": "stream",
     "text": [
      "Fitting 5 folds for each of 144 candidates, totalling 720 fits\n",
      "Best Parameters: {'bootstrap': True, 'bootstrap_features': True, 'max_features': 1.0, 'max_samples': 0.7, 'n_estimators': 200}\n",
      "Best Recall Score: 0.8220465915685307\n"
     ]
    }
   ],
   "source": [
    "bagging_tuned1 = BaggingClassifier(random_state=42)\n",
    "\n",
    "# Define the hyperparameter search space\n",
    "param_grid = {\n",
    "    \"n_estimators\": [10, 50, 100, 200],  # Number of base estimators\n",
    "    \"max_samples\": [0.5, 0.7, 1.0],      # Fraction of dataset per estimator\n",
    "    \"max_features\": [0.5, 0.7, 1.0],     # Fraction of features per estimator\n",
    "    \"bootstrap\": [True, False],          # Bootstrap sampling\n",
    "    \"bootstrap_features\": [True, False], # Bootstrap feature sampling\n",
    "}\n",
    "\n",
    "# Set up Randomized Search with Recall as the scoring metric\n",
    "grid_search = GridSearchCV(\n",
    "    estimator=bagging_tuned1,               # Decision Tree model\n",
    "    param_grid=param_grid,  # Hyperparameter distribution\n",
    "    scoring='recall',             # Optimize for recall\n",
    "    cv=5,                         # 5-fold cross-validation\n",
    "    n_jobs=-1,                    # Use all available CPU cores\n",
    "    verbose=2,                     # Show number of fits\n",
    ")\n",
    "\n",
    "# Fit the random search on training data\n",
    "grid_search.fit(X_train_over, y_train_over)\n",
    "\n",
    "# Print the best parameters and best recall score\n",
    "print(\"Best Parameters:\", grid_search.best_params_)\n",
    "print(\"Best Recall Score:\", grid_search.best_score_)\n",
    "\n",
    "# Get the best model\n",
    "bagging_tuned_random = grid_search.best_estimator_"
   ]
  },
  {
   "cell_type": "code",
   "execution_count": 87,
   "id": "shsJ5K8sCQKS",
   "metadata": {
    "id": "shsJ5K8sCQKS"
   },
   "outputs": [
    {
     "name": "stdout",
     "output_type": "stream",
     "text": [
      "Performance of the tuned bagging classifier model on training set:\n",
      "\n",
      "    Accuracy  Recall  Precision   F1\n",
      "0       1.0     1.0      0.999  1.0 \n",
      "\n",
      "Performance of the tuned bagging classifier model on validation set:\n",
      "\n",
      "    Accuracy  Recall  Precision     F1\n",
      "0     0.724   0.829      0.774  0.801\n"
     ]
    }
   ],
   "source": [
    "print('Performance of the tuned bagging classifier model on training set:\\n\\n', model_performance_classification(bagging_tuned_random, X_train_over, y_train_over), '\\n')\n",
    "\n",
    "print('Performance of the tuned bagging classifier model on validation set:\\n\\n', model_performance_classification(bagging_tuned_random, X_val, y_val))"
   ]
  },
  {
   "cell_type": "markdown",
   "id": "g0uWy3QECttG",
   "metadata": {
    "id": "g0uWy3QECttG"
   },
   "source": [
    "#### Tuning the bagging classifier model with Random Search CV and fitting it on the oversampled data."
   ]
  },
  {
   "cell_type": "code",
   "execution_count": 136,
   "id": "ac3483a8-66b4-4015-8a60-d8de3f54a878",
   "metadata": {
    "id": "ac3483a8-66b4-4015-8a60-d8de3f54a878"
   },
   "outputs": [
    {
     "name": "stdout",
     "output_type": "stream",
     "text": [
      "Fitting 5 folds for each of 30 candidates, totalling 150 fits\n",
      "Best Parameters: {'n_estimators': 200, 'max_samples': 0.4, 'max_features': 0.7, 'bootstrap_features': True, 'bootstrap': True}\n",
      "Best Recall Score: 0.8199477970356073\n"
     ]
    }
   ],
   "source": [
    "bagging_tuned2 = BaggingClassifier(random_state=42)\n",
    "\n",
    "# Define the hyperparameter search space\n",
    "param_grid = {\n",
    "    \"n_estimators\": [10, 50, 100, 150, 200],  # Number of base estimators\n",
    "    \"max_samples\": [0.4, 0.5, 0.7, 1.0],      # Fraction of dataset per estimator\n",
    "    \"max_features\": [0.5, 0.7, 1.0],     # Fraction of features per estimator\n",
    "    \"bootstrap\": [True, False],          # Bootstrap sampling\n",
    "    \"bootstrap_features\": [True, False], # Bootstrap feature sampling\n",
    "}\n",
    "\n",
    "# Set up Randomized Search with Recall as the scoring metric\n",
    "random_search = RandomizedSearchCV(\n",
    "    estimator=bagging_tuned2,               # Decision Tree model\n",
    "    param_distributions=param_grid,  # Hyperparameter distribution\n",
    "    n_iter=30,                   # Number of random combinations to try\n",
    "    scoring='recall',             # Optimize for recall\n",
    "    cv=5,                         # 5-fold cross-validation\n",
    "    n_jobs=-1,                    # Use all available CPU cores\n",
    "    verbose=2,                     # Show number of fits\n",
    "    random_state=42               # For reproducibility\n",
    ")\n",
    "\n",
    "# Fit the random search on training data\n",
    "random_search.fit(X_train_over, y_train_over)\n",
    "\n",
    "# Print the best parameters and best recall score\n",
    "print(\"Best Parameters:\", random_search.best_params_)\n",
    "print(\"Best Recall Score:\", random_search.best_score_)\n",
    "\n",
    "# Get the best model\n",
    "bagging_tuned_random = random_search.best_estimator_"
   ]
  },
  {
   "cell_type": "code",
   "execution_count": 89,
   "id": "a342e1f9-caff-4e40-a57a-f0cee86bf9ee",
   "metadata": {
    "id": "a342e1f9-caff-4e40-a57a-f0cee86bf9ee"
   },
   "outputs": [
    {
     "name": "stdout",
     "output_type": "stream",
     "text": [
      "Performance of the tuned bagging classifier model on training set:\n",
      "\n",
      "    Accuracy  Recall  Precision     F1\n",
      "0     0.988   0.993      0.983  0.988 \n",
      "\n",
      "Performance of the tuned bagging classifier model on validation set:\n",
      "\n",
      "    Accuracy  Recall  Precision     F1\n",
      "0     0.726    0.83      0.775  0.802\n"
     ]
    }
   ],
   "source": [
    "print('Performance of the tuned bagging classifier model on training set:\\n\\n', model_performance_classification(bagging_tuned_random, X_train_over, y_train_over), '\\n')\n",
    "\n",
    "print('Performance of the tuned bagging classifier model on validation set:\\n\\n', model_performance_classification(bagging_tuned_random, X_val, y_val))"
   ]
  },
  {
   "cell_type": "markdown",
   "id": "KnLbUYnqCwgh",
   "metadata": {
    "id": "KnLbUYnqCwgh"
   },
   "source": [
    "Train the Adaboost classifier on the original, oversampled and undersampled data and evaluate the performance on the train and valiation data.\n",
    "\n",
    "\n",
    "\n"
   ]
  },
  {
   "cell_type": "markdown",
   "id": "7470b67a-fa98-43f9-bbd8-a395264d2af7",
   "metadata": {},
   "source": [
    "- Even the tuned bagging classifier model is overfitting on the validation data."
   ]
  },
  {
   "cell_type": "code",
   "execution_count": 90,
   "id": "5f776101-ba53-4e3d-866d-9a006fab8afc",
   "metadata": {
    "id": "5f776101-ba53-4e3d-866d-9a006fab8afc"
   },
   "outputs": [
    {
     "name": "stdout",
     "output_type": "stream",
     "text": [
      "Performance of the adaboost1 model on training set:\n",
      "\n",
      "    Accuracy  Recall  Precision     F1\n",
      "0     0.737   0.885       0.76  0.818 \n",
      "\n",
      "Performance of the adaboost1 model on validation set:\n",
      "\n",
      "    Accuracy  Recall  Precision     F1\n",
      "0     0.727   0.883      0.752  0.812 \n",
      "\n"
     ]
    }
   ],
   "source": [
    "# Train an AdaBoost Classifier (adaboost1) and evaluate its performance.\n",
    "adaboost1 = AdaBoostClassifier(random_state=42)\n",
    "adaboost1.fit(X_train, y_train)\n",
    "\n",
    "# Calculate performance metrics for the training and validation sets.\n",
    "adaboost1_train_perf = model_performance_classification(adaboost1, X_train, y_train)\n",
    "adaboost1_val_perf = model_performance_classification(adaboost1, X_val, y_val)\n",
    "\n",
    "# Display the performance metrics.\n",
    "print('Performance of the adaboost1 model on training set:\\n\\n', adaboost1_train_perf, '\\n')\n",
    "print('Performance of the adaboost1 model on validation set:\\n\\n', adaboost1_val_perf, '\\n')"
   ]
  },
  {
   "cell_type": "code",
   "execution_count": 91,
   "id": "b48502fb-a764-48b0-b774-8054053c4187",
   "metadata": {
    "id": "b48502fb-a764-48b0-b774-8054053c4187"
   },
   "outputs": [
    {
     "name": "stdout",
     "output_type": "stream",
     "text": [
      "Performance of the adaboost2 model on training set:\n",
      "\n",
      "    Accuracy  Recall  Precision     F1\n",
      "0     0.774   0.782       0.77  0.776 \n",
      "\n",
      "Performance of the adaboost2 model on validation set:\n",
      "\n",
      "    Accuracy  Recall  Precision    F1\n",
      "0     0.693   0.769      0.772  0.77 \n",
      "\n"
     ]
    }
   ],
   "source": [
    "# Train an AdaBoost Classifier (adaboost2) on oversampled data and evaluate its performance.\n",
    "adaboost2 = AdaBoostClassifier(random_state=42)\n",
    "adaboost2.fit(X_train_over, y_train_over)\n",
    "\n",
    "# Calculate performance metrics for the oversampled training data and original validation data.\n",
    "adaboost2_train_perf = model_performance_classification(adaboost2, X_train_over, y_train_over)\n",
    "adaboost2_val_perf = model_performance_classification(adaboost2, X_val, y_val)\n",
    "\n",
    "# Display the performance metrics.\n",
    "print('Performance of the adaboost2 model on training set:\\n\\n', adaboost2_train_perf, '\\n')\n",
    "print('Performance of the adaboost2 model on validation set:\\n\\n', adaboost2_val_perf, '\\n')"
   ]
  },
  {
   "cell_type": "code",
   "execution_count": 92,
   "id": "64c91cc1-c24b-410c-83f1-21d6b3a986cc",
   "metadata": {
    "id": "64c91cc1-c24b-410c-83f1-21d6b3a986cc"
   },
   "outputs": [
    {
     "name": "stdout",
     "output_type": "stream",
     "text": [
      "Performance of the adaboost3 model on training set:\n",
      "\n",
      "    Accuracy  Recall  Precision     F1\n",
      "0     0.692   0.712      0.684  0.698 \n",
      "\n",
      "Performance of the adaboost3 model on validation set:\n",
      "\n",
      "    Accuracy  Recall  Precision     F1\n",
      "0      0.69   0.709      0.803  0.753 \n",
      "\n"
     ]
    }
   ],
   "source": [
    "# Train an AdaBoost Classifier (adaboost3) on undersampled data and evaluate its performance.\n",
    "adaboost3 = AdaBoostClassifier(random_state=43)  # Note: random_state is 43 here\n",
    "adaboost3.fit(X_train_under, y_train_under)\n",
    "\n",
    "# Calculate performance metrics for the undersampled training data and original validation data.\n",
    "adaboost3_train_perf = model_performance_classification(adaboost3, X_train_under, y_train_under)\n",
    "adaboost3_val_perf = model_performance_classification(adaboost3, X_val, y_val)\n",
    "\n",
    "# Display the performance metrics.\n",
    "print('Performance of the adaboost3 model on training set:\\n\\n', adaboost3_train_perf, '\\n')\n",
    "print('Performance of the adaboost3 model on validation set:\\n\\n', adaboost3_val_perf, '\\n')"
   ]
  },
  {
   "cell_type": "markdown",
   "id": "e4fe1999-fa2f-4826-8804-0ec8c3f2d2a4",
   "metadata": {
    "id": "f7c0eaae-0b65-45ee-90c9-42b65cf49ac6"
   },
   "source": [
    "- The adaboost model has done well on the original data with an accuracy of 73% and a F1-score of 82%. So, we will use the original data further."
   ]
  },
  {
   "cell_type": "markdown",
   "id": "gxchAAJ8DBpu",
   "metadata": {
    "id": "gxchAAJ8DBpu"
   },
   "source": [
    "#### Tuning the Adaboost classifier using Random Search CV and fitting it with the original data."
   ]
  },
  {
   "cell_type": "code",
   "execution_count": 98,
   "id": "13bfe75a-83e6-4801-a36d-3b851ca93e09",
   "metadata": {
    "id": "13bfe75a-83e6-4801-a36d-3b851ca93e09"
   },
   "outputs": [
    {
     "name": "stdout",
     "output_type": "stream",
     "text": [
      "Fitting 5 folds for each of 30 candidates, totalling 150 fits\n",
      "Best Parameters: {'n_estimators': np.int64(10), 'learning_rate': np.float64(0.8), 'estimator': DecisionTreeClassifier(max_depth=1, random_state=1)}\n",
      "Best Recall Score: 0.9101004068491022\n"
     ]
    }
   ],
   "source": [
    "adaboost_tuned1 = AdaBoostClassifier(random_state=42)\n",
    "\n",
    "# Grid of parameters to choose from\n",
    "param_grid = {\n",
    "    #Let's try different max_depth for base_estimator\n",
    "    \"estimator\":[DecisionTreeClassifier(max_depth=1, random_state=1),DecisionTreeClassifier(max_depth=2, random_state=1),DecisionTreeClassifier(max_depth=3, random_state=1)],\n",
    "    \"n_estimators\": np.arange(10,110,10),\n",
    "    \"learning_rate\":np.arange(0.1,2,0.1),\n",
    "}\n",
    "\n",
    "# Run the grid search\n",
    "random_search = RandomizedSearchCV(adaboost_tuned1, param_distributions=param_grid, n_iter=30, scoring='recall',cv=5, n_jobs=-1, verbose=2, random_state=42)\n",
    "random_search = random_search.fit(X_train, y_train)\n",
    "\n",
    "# Print the best parameters and best recall score\n",
    "print(\"Best Parameters:\", random_search.best_params_)\n",
    "print(\"Best Recall Score:\", random_search.best_score_)\n",
    "\n",
    "# Get the best model\n",
    "adaboost_tuned_random = random_search.best_estimator_"
   ]
  },
  {
   "cell_type": "code",
   "execution_count": 102,
   "id": "82a56aaf-0a32-4ce7-a06b-5e20b3235df3",
   "metadata": {
    "id": "82a56aaf-0a32-4ce7-a06b-5e20b3235df3"
   },
   "outputs": [
    {
     "name": "stdout",
     "output_type": "stream",
     "text": [
      "Performance of the tuned adaboost classifier model on training set:\n",
      "\n",
      "    Accuracy  Recall  Precision     F1\n",
      "0     0.729   0.905      0.745  0.817 \n",
      "\n",
      "Performance of the tuned adaboost classifier model on validation set:\n",
      "\n",
      "    Accuracy  Recall  Precision     F1\n",
      "0     0.724   0.906       0.74  0.814\n"
     ]
    }
   ],
   "source": [
    "print('Performance of the tuned adaboost classifier model on training set:\\n\\n', model_performance_classification(adaboost_tuned_random, X_train, y_train), '\\n')\n",
    "\n",
    "print('Performance of the tuned adaboost classifier model on validation set:\\n\\n', model_performance_classification(adaboost_tuned_random, X_val, y_val))"
   ]
  },
  {
   "cell_type": "markdown",
   "id": "8986fd03-082a-4ae7-af45-e73ba9f29f61",
   "metadata": {},
   "source": [
    "- The tuned Adaboost model is not overfitting the validation data with an accuracy of 73% and F1-score of 82% on both the training and validation data."
   ]
  },
  {
   "cell_type": "markdown",
   "id": "AV3kL26EDREz",
   "metadata": {
    "id": "AV3kL26EDREz"
   },
   "source": [
    "Train the Gradient boosting classifier on the original, oversampled and undersampled data and evaluate the performance on the train and valiation data."
   ]
  },
  {
   "cell_type": "code",
   "execution_count": 103,
   "id": "cecdaa4d-56b2-49e1-b4e6-1ce39159191b",
   "metadata": {
    "id": "cecdaa4d-56b2-49e1-b4e6-1ce39159191b"
   },
   "outputs": [
    {
     "name": "stdout",
     "output_type": "stream",
     "text": [
      "Performance of the Gradient Boosting model 1 on training set:\n",
      "\n",
      "    Accuracy  Recall  Precision     F1\n",
      "0     0.758   0.875      0.786  0.828 \n",
      "\n",
      "Performance of the Gradient Boosting model 1 on validation set:\n",
      "\n",
      "    Accuracy  Recall  Precision     F1\n",
      "0     0.744   0.868      0.775  0.819 \n",
      "\n"
     ]
    }
   ],
   "source": [
    "# Train a Gradient Boosting Classifier (gbc1) and evaluate its performance.\n",
    "gbc1 = GradientBoostingClassifier(random_state=42)\n",
    "gbc1.fit(X_train, y_train)\n",
    "\n",
    "# Calculate performance metrics for the training and validation sets.\n",
    "gbc1_train_perf = model_performance_classification(gbc1, X_train, y_train)\n",
    "gbc1_val_perf = model_performance_classification(gbc1, X_val, y_val)\n",
    "\n",
    "# Display the performance metrics.\n",
    "print('Performance of the Gradient Boosting model 1 on training set:\\n\\n', gbc1_train_perf, '\\n')\n",
    "print('Performance of the Gradient Boosting model 1 on validation set:\\n\\n', gbc1_val_perf, '\\n')"
   ]
  },
  {
   "cell_type": "code",
   "execution_count": 104,
   "id": "b0aa29d7-ae03-44fe-bf0d-83be9759a1cb",
   "metadata": {
    "id": "b0aa29d7-ae03-44fe-bf0d-83be9759a1cb"
   },
   "outputs": [
    {
     "name": "stdout",
     "output_type": "stream",
     "text": [
      "Performance of the Gradient Boosting model 2 on training set:\n",
      "\n",
      "    Accuracy  Recall  Precision    F1\n",
      "0     0.802   0.845      0.778  0.81 \n",
      "\n",
      "Performance of the Gradient Boosting model 2 on validation set:\n",
      "\n",
      "    Accuracy  Recall  Precision     F1\n",
      "0     0.735   0.835      0.783  0.808 \n",
      "\n"
     ]
    }
   ],
   "source": [
    "# Train a Gradient Boosting Classifier (gbc2) on oversampled data and evaluate performance.\n",
    "gbc2 = GradientBoostingClassifier(random_state=42)\n",
    "gbc2.fit(X_train_over, y_train_over)\n",
    "\n",
    "# Calculate performance metrics for the oversampled training data and original validation data.\n",
    "gbc2_train_perf = model_performance_classification(gbc2, X_train_over, y_train_over)\n",
    "gbc2_val_perf = model_performance_classification(gbc2, X_val, y_val)\n",
    "\n",
    "# Display the performance metrics.\n",
    "print('Performance of the Gradient Boosting model 2 on training set:\\n\\n', gbc2_train_perf, '\\n')\n",
    "print('Performance of the Gradient Boosting model 2 on validation set:\\n\\n', gbc2_val_perf, '\\n')"
   ]
  },
  {
   "cell_type": "code",
   "execution_count": 139,
   "id": "dffc976e-04e1-400b-a306-1a807e16823d",
   "metadata": {
    "id": "094bcdb1-7887-4525-ab40-01ee6a745b03"
   },
   "outputs": [
    {
     "name": "stdout",
     "output_type": "stream",
     "text": [
      "Performance of the Gradient Boosting model 3 on training set:\n",
      "\n",
      "    Accuracy  Recall  Precision     F1\n",
      "0      0.72   0.731      0.715  0.723 \n",
      "\n",
      "Performance of the Gradient Boosting model 3 on validation set:\n",
      "\n",
      "    Accuracy  Recall  Precision    F1\n",
      "0      0.71   0.725       0.82  0.77 \n",
      "\n"
     ]
    }
   ],
   "source": [
    "# Train a Gradient Boosting Classifier (gbc3) on undersampled data and evaluate performance.\n",
    "gbc3 = GradientBoostingClassifier(random_state=42)\n",
    "gbc3.fit(X_train_under, y_train_under)\n",
    "\n",
    "# Calculate performance metrics for the undersampled training data and original validation data.\n",
    "gbc3_train_perf = model_performance_classification(gbc3, X_train_under, y_train_under)\n",
    "gbc3_val_perf = model_performance_classification(gbc3, X_val, y_val)\n",
    "\n",
    "# Display the performance metrics.\n",
    "print('Performance of the Gradient Boosting model 3 on training set:\\n\\n', gbc3_train_perf, '\\n')\n",
    "print('Performance of the Gradient Boosting model 3 on validation set:\\n\\n', gbc3_val_perf, '\\n')"
   ]
  },
  {
   "cell_type": "markdown",
   "id": "df28b43c-fec9-44d9-aa86-650a0ed2c6a8",
   "metadata": {
    "id": "20ba82d0-a505-4da4-ab24-8db81a3b4dbb"
   },
   "source": [
    "- The gradient boosting classifier has performed apprximately equally on the original and the oversampled data. We will use the original data for further building the model."
   ]
  },
  {
   "cell_type": "markdown",
   "id": "ivPaXKaKDbgR",
   "metadata": {
    "id": "ivPaXKaKDbgR"
   },
   "source": [
    "#### Tuning the Gradient Boosting classifier using Random Search CV and fitting it with the original data."
   ]
  },
  {
   "cell_type": "code",
   "execution_count": 137,
   "id": "a1e5f6a4-1c57-4cb4-be0a-60e6629f5f93",
   "metadata": {
    "id": "a1e5f6a4-1c57-4cb4-be0a-60e6629f5f93"
   },
   "outputs": [
    {
     "name": "stdout",
     "output_type": "stream",
     "text": [
      "Fitting 5 folds for each of 40 candidates, totalling 200 fits\n",
      "Best Parameters: {'subsample': 0.8, 'n_estimators': 100, 'min_samples_split': 5, 'min_samples_leaf': 3, 'max_features': 'sqrt', 'max_depth': 7, 'learning_rate': 0.01}\n",
      "Best Recall Score: 0.9486273291115737\n"
     ]
    }
   ],
   "source": [
    "gbc_tuned1 = GradientBoostingClassifier(random_state=42)\n",
    "\n",
    "# Grid of parameters to choose from\n",
    "param_grid = {\n",
    "    'n_estimators': [100, 150, 300, 500],  # Number of boosting stages\n",
    "    'learning_rate': [0.01, 0.02, 0.05, 0.1, 0.2],  # Shrinks contribution of each tree\n",
    "    'max_depth': [3, 4, 5, 7],  # Depth of individual trees\n",
    "    'min_samples_split': [2, 5, 10],  # Minimum samples required to split an internal node\n",
    "    'min_samples_leaf': [1, 3, 5, 7],  # Minimum samples required at a leaf node\n",
    "    'subsample': [0.5, 0.6, 0.8, 1.0],  # Fraction of samples used for training each tree\n",
    "    'max_features': ['sqrt', 'log2', None]  # Number of features to consider for best split\n",
    "}\n",
    "\n",
    "# Run the grid search\n",
    "random_search = RandomizedSearchCV(gbc_tuned1, param_distributions=param_grid, scoring='recall',cv=5, n_iter=40, n_jobs=-1, verbose=2)\n",
    "random_search = random_search.fit(X_train, y_train)\n",
    "\n",
    "# Print the best parameters and best recall score\n",
    "print(\"Best Parameters:\", random_search.best_params_)\n",
    "print(\"Best Recall Score:\", random_search.best_score_)\n",
    "\n",
    "# Get the best model\n",
    "gbc_tuned_random = random_search.best_estimator_"
   ]
  },
  {
   "cell_type": "code",
   "execution_count": 138,
   "id": "7cb91459-7cb0-41ec-bc40-7fe99fc715bc",
   "metadata": {},
   "outputs": [
    {
     "name": "stdout",
     "output_type": "stream",
     "text": [
      "Performance of the tuned Gradient boost model on training set:\n",
      "\n",
      "    Accuracy  Recall  Precision     F1\n",
      "0     0.744   0.967      0.735  0.835 \n",
      "\n",
      "Performance of the tuned Gradient boost model on validation set:\n",
      "\n",
      "    Accuracy  Recall  Precision    F1\n",
      "0     0.719   0.957      0.717  0.82\n"
     ]
    }
   ],
   "source": [
    "print('Performance of the tuned Gradient boost model on training set:\\n\\n', model_performance_classification(gbc_tuned_random, X_train, y_train), '\\n')\n",
    "\n",
    "print('Performance of the tuned Gradient boost model on validation set:\\n\\n', model_performance_classification(gbc_tuned_random, X_val, y_val))"
   ]
  },
  {
   "cell_type": "code",
   "execution_count": null,
   "id": "9eaf9a35-5c59-489b-92fc-d1a0ce45b041",
   "metadata": {},
   "outputs": [],
   "source": []
  },
  {
   "cell_type": "markdown",
   "id": "dff3e135-f3ea-4da3-ab92-0579c49b1166",
   "metadata": {},
   "source": [
    "- Almost all the tuned models have an accuracy close to 72% and an F1 score close to 80%. We will evaluate the top models on the test data and look at the important features of some models."
   ]
  },
  {
   "cell_type": "markdown",
   "id": "542e44e4-c526-4f2e-8035-67775d9a0623",
   "metadata": {},
   "source": [
    "### Important Features of the Top Models\n"
   ]
  },
  {
   "cell_type": "code",
   "execution_count": 149,
   "id": "fdf05e6b-fe27-46a4-8e59-79f25abeba6a",
   "metadata": {},
   "outputs": [
    {
     "data": {
      "text/html": [
       "<div>\n",
       "<style scoped>\n",
       "    .dataframe tbody tr th:only-of-type {\n",
       "        vertical-align: middle;\n",
       "    }\n",
       "\n",
       "    .dataframe tbody tr th {\n",
       "        vertical-align: top;\n",
       "    }\n",
       "\n",
       "    .dataframe thead th {\n",
       "        text-align: right;\n",
       "    }\n",
       "</style>\n",
       "<table border=\"1\" class=\"dataframe\">\n",
       "  <thead>\n",
       "    <tr style=\"text-align: right;\">\n",
       "      <th></th>\n",
       "      <th>Accuracy</th>\n",
       "      <th>Recall</th>\n",
       "      <th>Precision</th>\n",
       "      <th>F1</th>\n",
       "    </tr>\n",
       "  </thead>\n",
       "  <tbody>\n",
       "    <tr>\n",
       "      <th>0</th>\n",
       "      <td>0.724</td>\n",
       "      <td>0.803</td>\n",
       "      <td>0.788</td>\n",
       "      <td>0.795</td>\n",
       "    </tr>\n",
       "  </tbody>\n",
       "</table>\n",
       "</div>"
      ],
      "text/plain": [
       "   Accuracy  Recall  Precision     F1\n",
       "0     0.724   0.803      0.788  0.795"
      ]
     },
     "execution_count": 149,
     "metadata": {},
     "output_type": "execute_result"
    }
   ],
   "source": [
    "model_performance_classification(rfc_tuned_random, X_test, y_test)"
   ]
  },
  {
   "cell_type": "code",
   "execution_count": 146,
   "id": "efec0649-ebf0-48a4-9bf4-ff6c3b14fee2",
   "metadata": {},
   "outputs": [
    {
     "data": {
      "image/png": "[encoded data removed]",
      "text/plain": [
       "<Figure size 864x864 with 1 Axes>"
      ]
     },
     "metadata": {
      "needs_background": "light"
     },
     "output_type": "display_data"
    }
   ],
   "source": [
    "# Features of the tuned random forest model\n",
    "feature_names = X_train.columns\n",
    "importances = rfc_tuned_random.feature_importances_\n",
    "indices = np.argsort(importances)\n",
    "\n",
    "plt.figure(figsize=(12, 12))\n",
    "plt.title(\"Feature Importances\")\n",
    "plt.barh(range(len(indices)), importances[indices], color=\"violet\", align=\"center\")\n",
    "plt.yticks(range(len(indices)), [feature_names[i] for i in indices])\n",
    "plt.xlabel(\"Relative Importance\")\n",
    "plt.show()"
   ]
  },
  {
   "cell_type": "code",
   "execution_count": 150,
   "id": "4eaa7912-8cf5-4218-ae2b-bcc7404623d1",
   "metadata": {},
   "outputs": [
    {
     "data": {
      "text/html": [
       "<div>\n",
       "<style scoped>\n",
       "    .dataframe tbody tr th:only-of-type {\n",
       "        vertical-align: middle;\n",
       "    }\n",
       "\n",
       "    .dataframe tbody tr th {\n",
       "        vertical-align: top;\n",
       "    }\n",
       "\n",
       "    .dataframe thead th {\n",
       "        text-align: right;\n",
       "    }\n",
       "</style>\n",
       "<table border=\"1\" class=\"dataframe\">\n",
       "  <thead>\n",
       "    <tr style=\"text-align: right;\">\n",
       "      <th></th>\n",
       "      <th>Accuracy</th>\n",
       "      <th>Recall</th>\n",
       "      <th>Precision</th>\n",
       "      <th>F1</th>\n",
       "    </tr>\n",
       "  </thead>\n",
       "  <tbody>\n",
       "    <tr>\n",
       "      <th>0</th>\n",
       "      <td>0.721</td>\n",
       "      <td>0.948</td>\n",
       "      <td>0.721</td>\n",
       "      <td>0.819</td>\n",
       "    </tr>\n",
       "  </tbody>\n",
       "</table>\n",
       "</div>"
      ],
      "text/plain": [
       "   Accuracy  Recall  Precision     F1\n",
       "0     0.721   0.948      0.721  0.819"
      ]
     },
     "execution_count": 150,
     "metadata": {},
     "output_type": "execute_result"
    }
   ],
   "source": [
    "model_performance_classification(gbc_tuned_random, X_test, y_test)"
   ]
  },
  {
   "cell_type": "code",
   "execution_count": 147,
   "id": "7a87afd1-cb06-4f31-bb1a-226b5047040c",
   "metadata": {},
   "outputs": [
    {
     "data": {
      "image/png": "[encoded data removed]",
      "text/plain": [
       "<Figure size 864x864 with 1 Axes>"
      ]
     },
     "metadata": {
      "needs_background": "light"
     },
     "output_type": "display_data"
    }
   ],
   "source": [
    "# Features of the tuned gradient boosting classifier model\n",
    "feature_names = X_train.columns\n",
    "importances = gbc_tuned_random.feature_importances_\n",
    "indices = np.argsort(importances)\n",
    "\n",
    "plt.figure(figsize=(12, 12))\n",
    "plt.title(\"Feature Importances\")\n",
    "plt.barh(range(len(indices)), importances[indices], color=\"violet\", align=\"center\")\n",
    "plt.yticks(range(len(indices)), [feature_names[i] for i in indices])\n",
    "plt.xlabel(\"Relative Importance\")\n",
    "plt.show()"
   ]
  },
  {
   "cell_type": "markdown",
   "id": "69c129fe-8b09-40a6-9bde-49c47af92e14",
   "metadata": {},
   "source": [
    "- Both the tuned random forest model and the gradient boost classifier model are performing well on the production(test) data. The models are not overfitting and are generalizing well."
   ]
  },
  {
   "cell_type": "markdown",
   "id": "bb3e081d-476d-4492-83d8-5ca7d972cccb",
   "metadata": {},
   "source": [
    "## Conclusion and Business Recommendataions"
   ]
  },
  {
   "cell_type": "markdown",
   "id": "f128378b-14ea-45ba-95d4-1677fd4c63ac",
   "metadata": {},
   "source": [
    "- The distribution for no_of_employees and annual_wage is highly righ-skewed, indicating that there are few companies which employee many number of people and few companies which are paying much greater than the average.\n",
    "- Most of the applications are from Asia.\n",
    "- Some of the key variables that are deemed important for prediction as highlighted by the top predictive models are: Education of Employee,\n",
    "Unit of Wage, Prior job experience, Continent of origin, Region of Employment.\n",
    "- An employee with only high school degree has a nearly 65% chance of visa rejection. An employee with a doctorate degree has very high chance of visa approval while one with masters degree has nearly 80% chance of visa approval.\n",
    "- An employee with prior job experience has a 75% chance of visa approval which drops down to only 50%-60% chance of approval without prior job experience.\n",
    "- Employees earning an annual salary have a 70% chance of visa approval. Employees paid on a hourly basis have a 65% chance of visa rejection.\n",
    "- An employee coming from Europe has a good chance of visa approval.\n",
    "- A candidate seeking a job in the Midwestern US has a 75% chance of visa approval. A candidate seeking a job in the Southern US has a 70% chance of visa approval.\n",
    "- Based on the above attributes, a suitable candidate profile can be constructed and Easy Visa can recommend a candiate the likelihood of either visa acceptance or visa denial.\n",
    "- For example, a doctorate holder from Europe with prior job experience and seeking a job with annual salary in the midwest may be a ideal candidate for visa approval with high degree of probability.\n",
    "- In contrast, a high school diploma holder from South America looking for a hourly job without prior job experience may be deemed high risk for visa rejection.\n",
    "- We recommend collecting additional data with other attributes like employee criminal history, employeee recommendation by individuals, Linkedin or other job networking site score etc. that can help improve the predicting ability of the ML model. Easy Visa will do better if its ML models can successfully predict visa acceptances as well as visa rejections to a high degree of accuracy.\n",
    "- Easy visa can also outline what key features are useful for succesful visa approvals and what features can be improved in the employee profile to lower chances of rejection. This will be helpful for foreign individuals to better tailor their profile in getting visa approvals."
   ]
  },
  {
   "cell_type": "code",
   "execution_count": null,
   "id": "c012b2d2-fe8f-4a1b-88bb-773bc1743ea3",
   "metadata": {},
   "outputs": [],
   "source": []
  }
 ],
 "metadata": {
  "colab": {
   "gpuType": "T4",
   "provenance": []
  },
  "kernelspec": {
   "display_name": "Python 3 (ipykernel)",
   "language": "python",
   "name": "python3"
  },
  "language_info": {
   "codemirror_mode": {
    "name": "ipython",
    "version": 3
   },
   "file_extension": ".py",
   "mimetype": "text/x-python",
   "name": "python",
   "nbconvert_exporter": "python",
   "pygments_lexer": "ipython3",
   "version": "3.10.1"
  }
 },
 "nbformat": 4,
 "nbformat_minor": 5
}
